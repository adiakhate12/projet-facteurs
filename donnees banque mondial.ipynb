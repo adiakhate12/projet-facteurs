{
 "cells": [
  {
   "cell_type": "code",
   "execution_count": 4,
   "id": "33a9d704-66a4-4dcf-856d-1e6eed7176b6",
   "metadata": {},
   "outputs": [],
   "source": [
    "import pandas as pd\n",
    "import numpy as np\n",
    "import seaborn as sns\n",
    "import matplotlib.pyplot as plt\n",
    "from statsmodels.api import OLS, add_constant\n",
    "from sklearn.decomposition import PCA\n",
    "from sklearn.linear_model import LinearRegression\n",
    "from sklearn.preprocessing import StandardScaler\n",
    "from statsmodels.stats.outliers_influence import variance_inflation_factor\n"
   ]
  },
  {
   "cell_type": "code",
   "execution_count": null,
   "id": "f06369ef-4386-4081-a1d4-a69ac3253182",
   "metadata": {},
   "outputs": [],
   "source": [
    "1. Chargement des données"
   ]
  },
  {
   "cell_type": "code",
   "execution_count": 16,
   "id": "bb2437a3-51e2-42b9-b46e-fb01519439c0",
   "metadata": {},
   "outputs": [],
   "source": [
    "df = pd.read_csv('donnees_banque_mondiale.csv')"
   ]
  },
  {
   "cell_type": "code",
   "execution_count": 6,
   "id": "504c4e92-c284-4c81-bf77-5ae507034003",
   "metadata": {},
   "outputs": [
    {
     "name": "stdout",
     "output_type": "stream",
     "text": [
      "  country  Année  Taux de chômage (%)  PIB par habitant ($ US)  \\\n",
      "0  France   2023                7.335             44690.934540   \n",
      "1  France   2022                7.308             41082.811932   \n",
      "2  France   2021                7.874             43725.099952   \n",
      "3  France   2020                8.009             39169.860600   \n",
      "4  France   2019                8.415             40408.284857   \n",
      "\n",
      "   Emploi dans l’agriculture (%)  Emploi dans l’industrie (%)  \\\n",
      "0                       2.505409                    19.245415   \n",
      "1                       2.587490                    19.256294   \n",
      "2                       2.514618                    19.507855   \n",
      "3                       2.350047                    19.964780   \n",
      "4                       2.515294                    20.392002   \n",
      "\n",
      "   Emploi dans les services (%)  Taux net de scolarisation primaire (%)  \\\n",
      "0                     78.249179                                     NaN   \n",
      "1                     78.156216                                     NaN   \n",
      "2                     77.977527                                     NaN   \n",
      "3                     77.685173                                     NaN   \n",
      "4                     77.092704                                     NaN   \n",
      "\n",
      "   Taux net de scolarisation secondaire (%)  Population active (millions)  \n",
      "0                                       NaN                    31618891.0  \n",
      "1                                       NaN                    31537676.0  \n",
      "2                                       NaN                    31181921.0  \n",
      "3                                       NaN                    30289755.0  \n",
      "4                                       NaN                    30500444.0  \n"
     ]
    }
   ],
   "source": [
    "print(df.head())"
   ]
  },
  {
   "cell_type": "code",
   "execution_count": 3,
   "id": "f344e4af-79bf-49f9-9a15-db04ea6cabc9",
   "metadata": {},
   "outputs": [
    {
     "name": "stdout",
     "output_type": "stream",
     "text": [
      "['.local', 'donnees_banque_mondiale.csv', 'README.ipynb', 'Untitled13.ipynb', 'Untitled14.ipynb', 'Untitled2.ipynb', 'Untitled Folder', 'Untitled10.ipynb', 'Untitled6.ipynb', '.gitconfig', '.jupyter', 'Untitled Folder 2', 'Untitled8.ipynb', '.npm', 'Untitled9.ipynb', '.anaconda', 'untitled.py', 'untitled1.py', 'Untitled11.ipynb', '.ipynb_checkpoints', '.virtualenvs', '.profile', 'donnees banque mondial.ipynb', 'Untitled3.ipynb', 'Untitled7.ipynb', 'untitled2.py', 'Untitled12.ipynb', 'Untitled1.ipynb', '.bashrc', 'Untitled4.ipynb', 'anaconda_projects', '.vimrc', 'Untitled Folder 1', 'Untitled Folder 6', 'Untitled9 (2) (1).pdf', 'Untitled Folder 5', '.ipython', 'Donnees banque mondial.ipynb', '.pythonstartup.py', '.cache', '.config', 'Untitled5.ipynb', 'Untitled.ipynb', 'Untitled Folder 3', 'Untitled Folder 4']\n"
     ]
    }
   ],
   "source": [
    "import os\n",
    "\n",
    "# Liste tous les fichiers et dossiers du répertoire de travail actuel\n",
    "print(os.listdir())\n"
   ]
  },
  {
   "cell_type": "markdown",
   "id": "239456fe-eb08-4c74-b6f4-7eea618ec115",
   "metadata": {},
   "source": [
    "Des le debut nous avons un petit soucis de chargement du dataset c'est pourquoi je voulais les fichiers\n"
   ]
  },
  {
   "cell_type": "code",
   "execution_count": 7,
   "id": "00936128-9e22-45a5-a6ae-bbb22f857301",
   "metadata": {},
   "outputs": [
    {
     "name": "stdout",
     "output_type": "stream",
     "text": [
      "<class 'pandas.core.frame.DataFrame'>\n",
      "RangeIndex: 128 entries, 0 to 127\n",
      "Data columns (total 10 columns):\n",
      " #   Column                                    Non-Null Count  Dtype  \n",
      "---  ------                                    --------------  -----  \n",
      " 0   country                                   128 non-null    object \n",
      " 1   Année                                     128 non-null    int64  \n",
      " 2   Taux de chômage (%)                       128 non-null    float64\n",
      " 3   PIB par habitant ($ US)                   128 non-null    float64\n",
      " 4   Emploi dans l’agriculture (%)             128 non-null    float64\n",
      " 5   Emploi dans l’industrie (%)               128 non-null    float64\n",
      " 6   Emploi dans les services (%)              128 non-null    float64\n",
      " 7   Taux net de scolarisation primaire (%)    122 non-null    float64\n",
      " 8   Taux net de scolarisation secondaire (%)  122 non-null    float64\n",
      " 9   Population active (millions)              128 non-null    float64\n",
      "dtypes: float64(8), int64(1), object(1)\n",
      "memory usage: 10.1+ KB\n",
      "None\n",
      "             Année  Taux de chômage (%)  PIB par habitant ($ US)  \\\n",
      "count   128.000000           128.000000               128.000000   \n",
      "mean   1991.500000             7.826680             25142.053336   \n",
      "std      18.545539             1.978217             19282.658831   \n",
      "min    1960.000000             3.638000              1302.531497   \n",
      "25%    1975.750000             6.800000              7405.103723   \n",
      "50%    1991.500000             8.008500             22598.874192   \n",
      "75%    2007.250000             9.134000             40479.918936   \n",
      "max    2023.000000            12.593000             82769.412211   \n",
      "\n",
      "       Emploi dans l’agriculture (%)  Emploi dans l’industrie (%)  \\\n",
      "count                     128.000000                   128.000000   \n",
      "mean                        3.486175                    24.330591   \n",
      "std                         1.464574                     3.076737   \n",
      "min                         1.569610                    19.183665   \n",
      "25%                         2.589555                    22.173592   \n",
      "50%                         2.776975                    24.501774   \n",
      "75%                         5.536840                    28.091077   \n",
      "max                         5.636333                    28.338856   \n",
      "\n",
      "       Emploi dans les services (%)  Taux net de scolarisation primaire (%)  \\\n",
      "count                    128.000000                              122.000000   \n",
      "mean                      72.183233                               96.167623   \n",
      "std                        4.451042                                1.900387   \n",
      "min                       66.024807                               92.442550   \n",
      "25%                       66.372079                               94.778260   \n",
      "50%                       72.721251                               95.173970   \n",
      "75%                       75.656093                               97.349690   \n",
      "max                       79.153932                               99.988270   \n",
      "\n",
      "       Taux net de scolarisation secondaire (%)  Population active (millions)  \n",
      "count                                122.000000                  1.280000e+02  \n",
      "mean                                  86.373209                  8.412149e+07  \n",
      "std                                    6.227519                  5.800302e+07  \n",
      "min                                   76.255550                  2.574899e+07  \n",
      "25%                                   80.901270                  2.594449e+07  \n",
      "50%                                   89.343770                  7.972015e+07  \n",
      "75%                                   89.343770                  1.292688e+08  \n",
      "max                                   96.216780                  1.713332e+08  \n"
     ]
    }
   ],
   "source": [
    "# Vérifier et nettoyer les données\n",
    "print(df.info())\n",
    "print(df.describe())"
   ]
  },
  {
   "cell_type": "code",
   "execution_count": 23,
   "id": "a90496a7-61fa-4569-9d7c-a6023189fe90",
   "metadata": {},
   "outputs": [],
   "source": [
    "df['Année'] = pd.to_datetime(df['Année'], format='%Y')\n"
   ]
  },
  {
   "cell_type": "code",
   "execution_count": 24,
   "id": "1f2274d4-2075-4cc3-87d1-d9841e7b21a9",
   "metadata": {},
   "outputs": [
    {
     "name": "stdout",
     "output_type": "stream",
     "text": [
      "<class 'pandas.core.frame.DataFrame'>\n",
      "RangeIndex: 128 entries, 0 to 127\n",
      "Data columns (total 10 columns):\n",
      " #   Column                                    Non-Null Count  Dtype         \n",
      "---  ------                                    --------------  -----         \n",
      " 0   country                                   128 non-null    object        \n",
      " 1   Année                                     128 non-null    datetime64[ns]\n",
      " 2   Taux de chômage (%)                       128 non-null    float64       \n",
      " 3   PIB par habitant ($ US)                   128 non-null    float64       \n",
      " 4   Emploi dans l’agriculture (%)             128 non-null    float64       \n",
      " 5   Emploi dans l’industrie (%)               128 non-null    float64       \n",
      " 6   Emploi dans les services (%)              128 non-null    float64       \n",
      " 7   Taux net de scolarisation primaire (%)    122 non-null    float64       \n",
      " 8   Taux net de scolarisation secondaire (%)  122 non-null    float64       \n",
      " 9   Population active (millions)              128 non-null    int64         \n",
      "dtypes: datetime64[ns](1), float64(7), int64(1), object(1)\n",
      "memory usage: 10.1+ KB\n",
      "None\n"
     ]
    }
   ],
   "source": [
    "print(df.info())"
   ]
  },
  {
   "cell_type": "code",
   "execution_count": 25,
   "id": "b8216024-9920-4e2b-9d0e-fa933e76fea7",
   "metadata": {},
   "outputs": [
    {
     "name": "stdout",
     "output_type": "stream",
     "text": [
      "datetime64[ns]\n"
     ]
    }
   ],
   "source": [
    "print(df['Année'].dtype)  # Vérifie que c'est bien datetime64\n"
   ]
  },
  {
   "cell_type": "code",
   "execution_count": 14,
   "id": "5b73f080-285b-40bb-8841-796f974fae14",
   "metadata": {},
   "outputs": [
    {
     "ename": "KeyError",
     "evalue": "'Population active'",
     "output_type": "error",
     "traceback": [
      "\u001b[0;31m---------------------------------------------------------------------------\u001b[0m",
      "\u001b[0;31mKeyError\u001b[0m                                  Traceback (most recent call last)",
      "File \u001b[0;32m/opt/conda/envs/anaconda-2024.02-py310/lib/python3.10/site-packages/pandas/core/indexes/base.py:3791\u001b[0m, in \u001b[0;36mIndex.get_loc\u001b[0;34m(self, key)\u001b[0m\n\u001b[1;32m   3790\u001b[0m \u001b[38;5;28;01mtry\u001b[39;00m:\n\u001b[0;32m-> 3791\u001b[0m     \u001b[38;5;28;01mreturn\u001b[39;00m \u001b[38;5;28;43mself\u001b[39;49m\u001b[38;5;241;43m.\u001b[39;49m\u001b[43m_engine\u001b[49m\u001b[38;5;241;43m.\u001b[39;49m\u001b[43mget_loc\u001b[49m\u001b[43m(\u001b[49m\u001b[43mcasted_key\u001b[49m\u001b[43m)\u001b[49m\n\u001b[1;32m   3792\u001b[0m \u001b[38;5;28;01mexcept\u001b[39;00m \u001b[38;5;167;01mKeyError\u001b[39;00m \u001b[38;5;28;01mas\u001b[39;00m err:\n",
      "File \u001b[0;32mindex.pyx:152\u001b[0m, in \u001b[0;36mpandas._libs.index.IndexEngine.get_loc\u001b[0;34m()\u001b[0m\n",
      "File \u001b[0;32mindex.pyx:181\u001b[0m, in \u001b[0;36mpandas._libs.index.IndexEngine.get_loc\u001b[0;34m()\u001b[0m\n",
      "File \u001b[0;32mpandas/_libs/hashtable_class_helper.pxi:7080\u001b[0m, in \u001b[0;36mpandas._libs.hashtable.PyObjectHashTable.get_item\u001b[0;34m()\u001b[0m\n",
      "File \u001b[0;32mpandas/_libs/hashtable_class_helper.pxi:7088\u001b[0m, in \u001b[0;36mpandas._libs.hashtable.PyObjectHashTable.get_item\u001b[0;34m()\u001b[0m\n",
      "\u001b[0;31mKeyError\u001b[0m: 'Population active'",
      "\nThe above exception was the direct cause of the following exception:\n",
      "\u001b[0;31mKeyError\u001b[0m                                  Traceback (most recent call last)",
      "Cell \u001b[0;32mIn[14], line 1\u001b[0m\n\u001b[0;32m----> 1\u001b[0m df[\u001b[38;5;124m'\u001b[39m\u001b[38;5;124mPopulation active\u001b[39m\u001b[38;5;124m'\u001b[39m] \u001b[38;5;241m=\u001b[39m \u001b[43mdf\u001b[49m\u001b[43m[\u001b[49m\u001b[38;5;124;43m'\u001b[39;49m\u001b[38;5;124;43mPopulation active\u001b[39;49m\u001b[38;5;124;43m'\u001b[39;49m\u001b[43m]\u001b[49m\u001b[38;5;241m.\u001b[39mastype(\u001b[38;5;28mint\u001b[39m)\n",
      "File \u001b[0;32m/opt/conda/envs/anaconda-2024.02-py310/lib/python3.10/site-packages/pandas/core/frame.py:3893\u001b[0m, in \u001b[0;36mDataFrame.__getitem__\u001b[0;34m(self, key)\u001b[0m\n\u001b[1;32m   3891\u001b[0m \u001b[38;5;28;01mif\u001b[39;00m \u001b[38;5;28mself\u001b[39m\u001b[38;5;241m.\u001b[39mcolumns\u001b[38;5;241m.\u001b[39mnlevels \u001b[38;5;241m>\u001b[39m \u001b[38;5;241m1\u001b[39m:\n\u001b[1;32m   3892\u001b[0m     \u001b[38;5;28;01mreturn\u001b[39;00m \u001b[38;5;28mself\u001b[39m\u001b[38;5;241m.\u001b[39m_getitem_multilevel(key)\n\u001b[0;32m-> 3893\u001b[0m indexer \u001b[38;5;241m=\u001b[39m \u001b[38;5;28;43mself\u001b[39;49m\u001b[38;5;241;43m.\u001b[39;49m\u001b[43mcolumns\u001b[49m\u001b[38;5;241;43m.\u001b[39;49m\u001b[43mget_loc\u001b[49m\u001b[43m(\u001b[49m\u001b[43mkey\u001b[49m\u001b[43m)\u001b[49m\n\u001b[1;32m   3894\u001b[0m \u001b[38;5;28;01mif\u001b[39;00m is_integer(indexer):\n\u001b[1;32m   3895\u001b[0m     indexer \u001b[38;5;241m=\u001b[39m [indexer]\n",
      "File \u001b[0;32m/opt/conda/envs/anaconda-2024.02-py310/lib/python3.10/site-packages/pandas/core/indexes/base.py:3798\u001b[0m, in \u001b[0;36mIndex.get_loc\u001b[0;34m(self, key)\u001b[0m\n\u001b[1;32m   3793\u001b[0m     \u001b[38;5;28;01mif\u001b[39;00m \u001b[38;5;28misinstance\u001b[39m(casted_key, \u001b[38;5;28mslice\u001b[39m) \u001b[38;5;129;01mor\u001b[39;00m (\n\u001b[1;32m   3794\u001b[0m         \u001b[38;5;28misinstance\u001b[39m(casted_key, abc\u001b[38;5;241m.\u001b[39mIterable)\n\u001b[1;32m   3795\u001b[0m         \u001b[38;5;129;01mand\u001b[39;00m \u001b[38;5;28many\u001b[39m(\u001b[38;5;28misinstance\u001b[39m(x, \u001b[38;5;28mslice\u001b[39m) \u001b[38;5;28;01mfor\u001b[39;00m x \u001b[38;5;129;01min\u001b[39;00m casted_key)\n\u001b[1;32m   3796\u001b[0m     ):\n\u001b[1;32m   3797\u001b[0m         \u001b[38;5;28;01mraise\u001b[39;00m InvalidIndexError(key)\n\u001b[0;32m-> 3798\u001b[0m     \u001b[38;5;28;01mraise\u001b[39;00m \u001b[38;5;167;01mKeyError\u001b[39;00m(key) \u001b[38;5;28;01mfrom\u001b[39;00m \u001b[38;5;21;01merr\u001b[39;00m\n\u001b[1;32m   3799\u001b[0m \u001b[38;5;28;01mexcept\u001b[39;00m \u001b[38;5;167;01mTypeError\u001b[39;00m:\n\u001b[1;32m   3800\u001b[0m     \u001b[38;5;66;03m# If we have a listlike key, _check_indexing_error will raise\u001b[39;00m\n\u001b[1;32m   3801\u001b[0m     \u001b[38;5;66;03m#  InvalidIndexError. Otherwise we fall through and re-raise\u001b[39;00m\n\u001b[1;32m   3802\u001b[0m     \u001b[38;5;66;03m#  the TypeError.\u001b[39;00m\n\u001b[1;32m   3803\u001b[0m     \u001b[38;5;28mself\u001b[39m\u001b[38;5;241m.\u001b[39m_check_indexing_error(key)\n",
      "\u001b[0;31mKeyError\u001b[0m: 'Population active'"
     ]
    }
   ],
   "source": [
    "df['Population active'] = df['Population active'].astype(int)\n"
   ]
  },
  {
   "cell_type": "markdown",
   "id": "5b2e9629-faab-44f8-9b01-2965d106e85e",
   "metadata": {},
   "source": [
    "L'erreur KeyError: 'Population active' signifie que la colonne \"Population active\" n'existe pas dans mon DataFrame df"
   ]
  },
  {
   "cell_type": "code",
   "execution_count": 15,
   "id": "d565579f-643b-488c-b97c-ee3013980c92",
   "metadata": {},
   "outputs": [
    {
     "name": "stdout",
     "output_type": "stream",
     "text": [
      "Index(['country', 'Année', 'Taux de chômage (%)', 'PIB par habitant ($ US)',\n",
      "       'Emploi dans l’agriculture (%)', 'Emploi dans l’industrie (%)',\n",
      "       'Emploi dans les services (%)',\n",
      "       'Taux net de scolarisation primaire (%)',\n",
      "       'Taux net de scolarisation secondaire (%)',\n",
      "       'Population active (millions)'],\n",
      "      dtype='object')\n"
     ]
    }
   ],
   "source": [
    "print(df.columns)\n"
   ]
  },
  {
   "cell_type": "code",
   "execution_count": null,
   "id": "414a89e3-60e1-4f1f-9774-ecc1e2b2a8e6",
   "metadata": {},
   "outputs": [],
   "source": [
    "df.columns = df.columns.str.strip()  # Supprime les espaces avant/après\n"
   ]
  },
  {
   "cell_type": "code",
   "execution_count": 18,
   "id": "c9c8f281-d179-4b90-8e15-ff6bc6127d3c",
   "metadata": {},
   "outputs": [],
   "source": [
    "df['Population active (millions)'] = df['Population active (millions)'].astype(int)\n"
   ]
  },
  {
   "cell_type": "code",
   "execution_count": 20,
   "id": "0c0f0602-dbc3-44d0-b37e-c4b23211a7a6",
   "metadata": {},
   "outputs": [
    {
     "name": "stdout",
     "output_type": "stream",
     "text": [
      "int64\n"
     ]
    }
   ],
   "source": [
    "print(df['Population active (millions)'].dtype)  # Vérifie que c'est bien int"
   ]
  },
  {
   "cell_type": "code",
   "execution_count": 26,
   "id": "f9556885-4430-4a2b-8725-c12a4c9b54ee",
   "metadata": {},
   "outputs": [
    {
     "name": "stdout",
     "output_type": "stream",
     "text": [
      "<class 'pandas.core.frame.DataFrame'>\n",
      "RangeIndex: 128 entries, 0 to 127\n",
      "Data columns (total 10 columns):\n",
      " #   Column                                    Non-Null Count  Dtype         \n",
      "---  ------                                    --------------  -----         \n",
      " 0   country                                   128 non-null    object        \n",
      " 1   Année                                     128 non-null    datetime64[ns]\n",
      " 2   Taux de chômage (%)                       128 non-null    float64       \n",
      " 3   PIB par habitant ($ US)                   128 non-null    float64       \n",
      " 4   Emploi dans l’agriculture (%)             128 non-null    float64       \n",
      " 5   Emploi dans l’industrie (%)               128 non-null    float64       \n",
      " 6   Emploi dans les services (%)              128 non-null    float64       \n",
      " 7   Taux net de scolarisation primaire (%)    122 non-null    float64       \n",
      " 8   Taux net de scolarisation secondaire (%)  122 non-null    float64       \n",
      " 9   Population active (millions)              128 non-null    int64         \n",
      "dtypes: datetime64[ns](1), float64(7), int64(1), object(1)\n",
      "memory usage: 10.1+ KB\n",
      "None\n"
     ]
    }
   ],
   "source": [
    "print(df.info())"
   ]
  },
  {
   "cell_type": "code",
   "execution_count": 19,
   "id": "622b1b61-ebac-482a-bde0-c3754fa3c40b",
   "metadata": {},
   "outputs": [
    {
     "ename": "SyntaxError",
     "evalue": "invalid syntax (1111059086.py, line 1)",
     "output_type": "error",
     "traceback": [
      "\u001b[0;36m  Cell \u001b[0;32mIn[19], line 1\u001b[0;36m\u001b[0m\n\u001b[0;31m    Observation:\u001b[0m\n\u001b[0m                ^\u001b[0m\n\u001b[0;31mSyntaxError\u001b[0m\u001b[0;31m:\u001b[0m invalid syntax\n"
     ]
    }
   ],
   "source": [
    "Observation:\n",
    "Notre base de données est constituée de 10 colonnes de type nombre réel à priori,un datetime, une chaine de caractère et un numérique de\n",
    "128 enregistrements (lignes) et contient de valeurs manquantes."
   ]
  },
  {
   "cell_type": "code",
   "execution_count": null,
   "id": "0113e74c-daf2-4904-9fe0-0118eecd89ce",
   "metadata": {},
   "outputs": [],
   "source": [
    "2. Données manquantes"
   ]
  },
  {
   "cell_type": "code",
   "execution_count": 12,
   "id": "81f41b8b-0fb7-45d1-9281-d74d79cddba6",
   "metadata": {},
   "outputs": [
    {
     "data": {
      "text/plain": [
       "country                                     0\n",
       "Année                                       0\n",
       "Taux de chômage (%)                         0\n",
       "PIB par habitant ($ US)                     0\n",
       "Emploi dans l’agriculture (%)               0\n",
       "Emploi dans l’industrie (%)                 0\n",
       "Emploi dans les services (%)                0\n",
       "Taux net de scolarisation primaire (%)      6\n",
       "Taux net de scolarisation secondaire (%)    6\n",
       "Population active (millions)                0\n",
       "dtype: int64"
      ]
     },
     "execution_count": 12,
     "metadata": {},
     "output_type": "execute_result"
    }
   ],
   "source": [
    "df.isnull().sum()"
   ]
  },
  {
   "cell_type": "code",
   "execution_count": 13,
   "id": "03fb2aad-fad6-4ad1-a4f5-0374fe073fa1",
   "metadata": {},
   "outputs": [
    {
     "data": {
      "text/plain": [
       "0"
      ]
     },
     "execution_count": 13,
     "metadata": {},
     "output_type": "execute_result"
    }
   ],
   "source": [
    "df.isnull().all(axis=1).sum()"
   ]
  },
  {
   "cell_type": "markdown",
   "id": "accb21b5-fbbc-4b6c-9d73-cc502c57916b",
   "metadata": {},
   "source": [
    "On remarque que 0 ligne vide et ne contient aucune \n",
    "donnés."
   ]
  },
  {
   "cell_type": "code",
   "execution_count": 27,
   "id": "71798517-aa14-46d6-980a-4aaf7d70e425",
   "metadata": {},
   "outputs": [
    {
     "name": "stdout",
     "output_type": "stream",
     "text": [
      "<class 'pandas.core.frame.DataFrame'>\n",
      "RangeIndex: 128 entries, 0 to 127\n",
      "Data columns (total 10 columns):\n",
      " #   Column                                    Non-Null Count  Dtype         \n",
      "---  ------                                    --------------  -----         \n",
      " 0   country                                   128 non-null    object        \n",
      " 1   Année                                     128 non-null    datetime64[ns]\n",
      " 2   Taux de chômage (%)                       128 non-null    float64       \n",
      " 3   PIB par habitant ($ US)                   128 non-null    float64       \n",
      " 4   Emploi dans l’agriculture (%)             128 non-null    float64       \n",
      " 5   Emploi dans l’industrie (%)               128 non-null    float64       \n",
      " 6   Emploi dans les services (%)              128 non-null    float64       \n",
      " 7   Taux net de scolarisation primaire (%)    122 non-null    float64       \n",
      " 8   Taux net de scolarisation secondaire (%)  122 non-null    float64       \n",
      " 9   Population active (millions)              128 non-null    int64         \n",
      "dtypes: datetime64[ns](1), float64(7), int64(1), object(1)\n",
      "memory usage: 10.1+ KB\n",
      "None\n",
      "                     Année  Taux de chômage (%)  PIB par habitant ($ US)  \\\n",
      "count                  128           128.000000               128.000000   \n",
      "mean   1991-07-02 18:00:00             7.826680             25142.053336   \n",
      "min    1960-01-01 00:00:00             3.638000              1302.531497   \n",
      "25%    1975-10-01 18:00:00             6.800000              7405.103723   \n",
      "50%    1991-07-02 12:00:00             8.008500             22598.874192   \n",
      "75%    2007-04-02 06:00:00             9.134000             40479.918936   \n",
      "max    2023-01-01 00:00:00            12.593000             82769.412211   \n",
      "std                    NaN             1.978217             19282.658831   \n",
      "\n",
      "       Emploi dans l’agriculture (%)  Emploi dans l’industrie (%)  \\\n",
      "count                     128.000000                   128.000000   \n",
      "mean                        3.486175                    24.330591   \n",
      "min                         1.569610                    19.183665   \n",
      "25%                         2.589555                    22.173592   \n",
      "50%                         2.776975                    24.501774   \n",
      "75%                         5.536840                    28.091077   \n",
      "max                         5.636333                    28.338856   \n",
      "std                         1.464574                     3.076737   \n",
      "\n",
      "       Emploi dans les services (%)  Taux net de scolarisation primaire (%)  \\\n",
      "count                    128.000000                              122.000000   \n",
      "mean                      72.183233                               96.167623   \n",
      "min                       66.024807                               92.442550   \n",
      "25%                       66.372079                               94.778260   \n",
      "50%                       72.721251                               95.173970   \n",
      "75%                       75.656093                               97.349690   \n",
      "max                       79.153932                               99.988270   \n",
      "std                        4.451042                                1.900387   \n",
      "\n",
      "       Taux net de scolarisation secondaire (%)  Population active (millions)  \n",
      "count                                122.000000                  1.280000e+02  \n",
      "mean                                  86.373209                  8.412149e+07  \n",
      "min                                   76.255550                  2.574899e+07  \n",
      "25%                                   80.901270                  2.594449e+07  \n",
      "50%                                   89.343770                  7.972015e+07  \n",
      "75%                                   89.343770                  1.292688e+08  \n",
      "max                                   96.216780                  1.713332e+08  \n",
      "std                                    6.227519                  5.800302e+07  \n",
      "Valeurs manquantes après nettoyage :\n",
      "country                                     0\n",
      "Année                                       0\n",
      "Taux de chômage (%)                         0\n",
      "PIB par habitant ($ US)                     0\n",
      "Emploi dans l’agriculture (%)               0\n",
      "Emploi dans l’industrie (%)                 0\n",
      "Emploi dans les services (%)                0\n",
      "Taux net de scolarisation primaire (%)      0\n",
      "Taux net de scolarisation secondaire (%)    0\n",
      "Population active (millions)                0\n",
      "dtype: int64\n"
     ]
    }
   ],
   "source": [
    "# Vérifier et nettoyer les données\n",
    "print(df.info())\n",
    "print(df.describe())\n",
    "\n",
    "# Remplacer les valeurs infinies par NaN, puis les supprimer\n",
    "df.replace([np.inf, -np.inf], np.nan, inplace=True)\n",
    "df.dropna(inplace=True)\n",
    "\n",
    "# Vérifier les valeurs manquantes\n",
    "print(\"Valeurs manquantes après nettoyage :\")\n",
    "print(df.isnull().sum())\n"
   ]
  },
  {
   "cell_type": "code",
   "execution_count": null,
   "id": "9fe93f19-ec75-4e85-aa9d-0aa5bc8cd628",
   "metadata": {},
   "outputs": [],
   "source": [
    "3. Analyse des statistiques de tendances centrales et de\n",
    "dispersion"
   ]
  },
  {
   "cell_type": "code",
   "execution_count": null,
   "id": "868e75f2-76ff-4343-8503-9ec22550ed18",
   "metadata": {},
   "outputs": [],
   "source": [
    "df.describe()"
   ]
  },
  {
   "cell_type": "code",
   "execution_count": 28,
   "id": "854b2861-419f-4014-b6b4-fb978355cd49",
   "metadata": {},
   "outputs": [
    {
     "data": {
      "text/html": [
       "<div>\n",
       "<style scoped>\n",
       "    .dataframe tbody tr th:only-of-type {\n",
       "        vertical-align: middle;\n",
       "    }\n",
       "\n",
       "    .dataframe tbody tr th {\n",
       "        vertical-align: top;\n",
       "    }\n",
       "\n",
       "    .dataframe thead th {\n",
       "        text-align: right;\n",
       "    }\n",
       "</style>\n",
       "<table border=\"1\" class=\"dataframe\">\n",
       "  <thead>\n",
       "    <tr style=\"text-align: right;\">\n",
       "      <th></th>\n",
       "      <th>count</th>\n",
       "      <th>mean</th>\n",
       "      <th>min</th>\n",
       "      <th>25%</th>\n",
       "      <th>50%</th>\n",
       "      <th>75%</th>\n",
       "      <th>max</th>\n",
       "      <th>std</th>\n",
       "    </tr>\n",
       "  </thead>\n",
       "  <tbody>\n",
       "    <tr>\n",
       "      <th>Année</th>\n",
       "      <td>122</td>\n",
       "      <td>1990-01-27 19:40:19.672131200</td>\n",
       "      <td>1960-01-01 00:00:00</td>\n",
       "      <td>1975-01-01 00:00:00</td>\n",
       "      <td>1990-01-01 00:00:00</td>\n",
       "      <td>2005-01-01 00:00:00</td>\n",
       "      <td>2023-01-01 00:00:00</td>\n",
       "      <td>NaN</td>\n",
       "    </tr>\n",
       "    <tr>\n",
       "      <th>Taux de chômage (%)</th>\n",
       "      <td>122.0</td>\n",
       "      <td>7.818492</td>\n",
       "      <td>3.638</td>\n",
       "      <td>6.8</td>\n",
       "      <td>8.0315</td>\n",
       "      <td>9.134</td>\n",
       "      <td>12.593</td>\n",
       "      <td>2.021935</td>\n",
       "    </tr>\n",
       "    <tr>\n",
       "      <th>PIB par habitant ($ US)</th>\n",
       "      <td>122.0</td>\n",
       "      <td>24325.308676</td>\n",
       "      <td>1302.531497</td>\n",
       "      <td>6902.385885</td>\n",
       "      <td>21912.646262</td>\n",
       "      <td>37781.711922</td>\n",
       "      <td>82769.412211</td>\n",
       "      <td>19383.798721</td>\n",
       "    </tr>\n",
       "    <tr>\n",
       "      <th>Emploi dans l’agriculture (%)</th>\n",
       "      <td>122.0</td>\n",
       "      <td>3.534926</td>\n",
       "      <td>1.56961</td>\n",
       "      <td>2.741434</td>\n",
       "      <td>2.776975</td>\n",
       "      <td>5.636333</td>\n",
       "      <td>5.636333</td>\n",
       "      <td>1.483228</td>\n",
       "    </tr>\n",
       "    <tr>\n",
       "      <th>Emploi dans l’industrie (%)</th>\n",
       "      <td>122.0</td>\n",
       "      <td>24.555054</td>\n",
       "      <td>19.183665</td>\n",
       "      <td>22.489913</td>\n",
       "      <td>24.501774</td>\n",
       "      <td>28.338856</td>\n",
       "      <td>28.338856</td>\n",
       "      <td>2.973496</td>\n",
       "    </tr>\n",
       "    <tr>\n",
       "      <th>Emploi dans les services (%)</th>\n",
       "      <td>122.0</td>\n",
       "      <td>71.910019</td>\n",
       "      <td>66.024807</td>\n",
       "      <td>66.024807</td>\n",
       "      <td>72.721251</td>\n",
       "      <td>74.87179</td>\n",
       "      <td>79.153932</td>\n",
       "      <td>4.379409</td>\n",
       "    </tr>\n",
       "    <tr>\n",
       "      <th>Taux net de scolarisation primaire (%)</th>\n",
       "      <td>122.0</td>\n",
       "      <td>96.167623</td>\n",
       "      <td>92.44255</td>\n",
       "      <td>94.77826</td>\n",
       "      <td>95.17397</td>\n",
       "      <td>97.34969</td>\n",
       "      <td>99.98827</td>\n",
       "      <td>1.900387</td>\n",
       "    </tr>\n",
       "    <tr>\n",
       "      <th>Taux net de scolarisation secondaire (%)</th>\n",
       "      <td>122.0</td>\n",
       "      <td>86.373209</td>\n",
       "      <td>76.25555</td>\n",
       "      <td>80.90127</td>\n",
       "      <td>89.34377</td>\n",
       "      <td>89.34377</td>\n",
       "      <td>96.21678</td>\n",
       "      <td>6.227519</td>\n",
       "    </tr>\n",
       "    <tr>\n",
       "      <th>Population active (millions)</th>\n",
       "      <td>122.0</td>\n",
       "      <td>86736782.131148</td>\n",
       "      <td>25748991.0</td>\n",
       "      <td>25871210.0</td>\n",
       "      <td>127821416.0</td>\n",
       "      <td>131913596.0</td>\n",
       "      <td>171333247.0</td>\n",
       "      <td>58172535.97703</td>\n",
       "    </tr>\n",
       "  </tbody>\n",
       "</table>\n",
       "</div>"
      ],
      "text/plain": [
       "                                          count  \\\n",
       "Année                                       122   \n",
       "Taux de chômage (%)                       122.0   \n",
       "PIB par habitant ($ US)                   122.0   \n",
       "Emploi dans l’agriculture (%)             122.0   \n",
       "Emploi dans l’industrie (%)               122.0   \n",
       "Emploi dans les services (%)              122.0   \n",
       "Taux net de scolarisation primaire (%)    122.0   \n",
       "Taux net de scolarisation secondaire (%)  122.0   \n",
       "Population active (millions)              122.0   \n",
       "\n",
       "                                                                   mean  \\\n",
       "Année                                     1990-01-27 19:40:19.672131200   \n",
       "Taux de chômage (%)                                            7.818492   \n",
       "PIB par habitant ($ US)                                    24325.308676   \n",
       "Emploi dans l’agriculture (%)                                  3.534926   \n",
       "Emploi dans l’industrie (%)                                   24.555054   \n",
       "Emploi dans les services (%)                                  71.910019   \n",
       "Taux net de scolarisation primaire (%)                        96.167623   \n",
       "Taux net de scolarisation secondaire (%)                      86.373209   \n",
       "Population active (millions)                            86736782.131148   \n",
       "\n",
       "                                                          min  \\\n",
       "Année                                     1960-01-01 00:00:00   \n",
       "Taux de chômage (%)                                     3.638   \n",
       "PIB par habitant ($ US)                           1302.531497   \n",
       "Emploi dans l’agriculture (%)                         1.56961   \n",
       "Emploi dans l’industrie (%)                         19.183665   \n",
       "Emploi dans les services (%)                        66.024807   \n",
       "Taux net de scolarisation primaire (%)               92.44255   \n",
       "Taux net de scolarisation secondaire (%)             76.25555   \n",
       "Population active (millions)                       25748991.0   \n",
       "\n",
       "                                                          25%  \\\n",
       "Année                                     1975-01-01 00:00:00   \n",
       "Taux de chômage (%)                                       6.8   \n",
       "PIB par habitant ($ US)                           6902.385885   \n",
       "Emploi dans l’agriculture (%)                        2.741434   \n",
       "Emploi dans l’industrie (%)                         22.489913   \n",
       "Emploi dans les services (%)                        66.024807   \n",
       "Taux net de scolarisation primaire (%)               94.77826   \n",
       "Taux net de scolarisation secondaire (%)             80.90127   \n",
       "Population active (millions)                       25871210.0   \n",
       "\n",
       "                                                          50%  \\\n",
       "Année                                     1990-01-01 00:00:00   \n",
       "Taux de chômage (%)                                    8.0315   \n",
       "PIB par habitant ($ US)                          21912.646262   \n",
       "Emploi dans l’agriculture (%)                        2.776975   \n",
       "Emploi dans l’industrie (%)                         24.501774   \n",
       "Emploi dans les services (%)                        72.721251   \n",
       "Taux net de scolarisation primaire (%)               95.17397   \n",
       "Taux net de scolarisation secondaire (%)             89.34377   \n",
       "Population active (millions)                      127821416.0   \n",
       "\n",
       "                                                          75%  \\\n",
       "Année                                     2005-01-01 00:00:00   \n",
       "Taux de chômage (%)                                     9.134   \n",
       "PIB par habitant ($ US)                          37781.711922   \n",
       "Emploi dans l’agriculture (%)                        5.636333   \n",
       "Emploi dans l’industrie (%)                         28.338856   \n",
       "Emploi dans les services (%)                         74.87179   \n",
       "Taux net de scolarisation primaire (%)               97.34969   \n",
       "Taux net de scolarisation secondaire (%)             89.34377   \n",
       "Population active (millions)                      131913596.0   \n",
       "\n",
       "                                                          max             std  \n",
       "Année                                     2023-01-01 00:00:00             NaN  \n",
       "Taux de chômage (%)                                    12.593        2.021935  \n",
       "PIB par habitant ($ US)                          82769.412211    19383.798721  \n",
       "Emploi dans l’agriculture (%)                        5.636333        1.483228  \n",
       "Emploi dans l’industrie (%)                         28.338856        2.973496  \n",
       "Emploi dans les services (%)                        79.153932        4.379409  \n",
       "Taux net de scolarisation primaire (%)               99.98827        1.900387  \n",
       "Taux net de scolarisation secondaire (%)             96.21678        6.227519  \n",
       "Population active (millions)                      171333247.0  58172535.97703  "
      ]
     },
     "execution_count": 28,
     "metadata": {},
     "output_type": "execute_result"
    }
   ],
   "source": [
    "df.describe().T"
   ]
  },
  {
   "cell_type": "markdown",
   "id": "208612ed-4abf-41f7-98ac-bf29ae301b22",
   "metadata": {},
   "source": [
    "Nous constatons la moyenne 7.82% (écart-type 2.02%) du taux de chomage est moins élevé que la médiane (8.03%). la Valeur max (12.59%) plus éloignée de la médiane que la valeur min (3.64%). Cela implique la p Présence de périodes/pays avec un chômage exceptionnellement élevé (ex. : crises économiquesn) Pour le PIB par habitant: la moeyenne (24,325§) du PIB par habitant est plus élevé que la médiane (13,025§) nous avons donc une distribution asymetrique à droite.La médiane (21,913 $) est inférieure à la moyenne, indiquant une concentration de pays à revenu intermédiaire."
   ]
  },
  {
   "cell_type": "code",
   "execution_count": null,
   "id": "9a958b13-ac03-41fa-b82f-416d4e3a40fc",
   "metadata": {},
   "outputs": [],
   "source": [
    "4. Matrice de correlation"
   ]
  },
  {
   "cell_type": "code",
   "execution_count": 29,
   "id": "13dc5a92-641f-4ab8-98bd-bb34d3685e8d",
   "metadata": {},
   "outputs": [
    {
     "data": {
      "image/png": "[encoded data removed]",
      "text/plain": [
       "<Figure size 1000x800 with 9 Axes>"
      ]
     },
     "metadata": {},
     "output_type": "display_data"
    }
   ],
   "source": [
    "import matplotlib.pyplot as plt  \n",
    "\n",
    "df.hist(figsize=(10, 8), bins=20)\n",
    "plt.show()\n"
   ]
  },
  {
   "cell_type": "code",
   "execution_count": 30,
   "id": "9f3b67a1-eda6-4e01-9477-21558e591fc1",
   "metadata": {},
   "outputs": [
    {
     "name": "stdout",
     "output_type": "stream",
     "text": [
      "Colonnes utilisées pour la heatmap : Index(['Taux de chômage (%)', 'PIB par habitant ($ US)',\n",
      "       'Emploi dans l’agriculture (%)', 'Emploi dans l’industrie (%)',\n",
      "       'Emploi dans les services (%)',\n",
      "       'Taux net de scolarisation primaire (%)',\n",
      "       'Taux net de scolarisation secondaire (%)',\n",
      "       'Population active (millions)'],\n",
      "      dtype='object')\n"
     ]
    },
    {
     "data": {
      "image/png": "[encoded data removed]",
      "text/plain": [
       "<Figure size 800x600 with 2 Axes>"
      ]
     },
     "metadata": {},
     "output_type": "display_data"
    }
   ],
   "source": [
    "# Sélectionner uniquement les colonnes numériques\n",
    "df_numeric = df.select_dtypes(include=[np.number])\n",
    "\n",
    "# Vérifier les colonnes sélectionnées\n",
    "print(\"Colonnes utilisées pour la heatmap :\", df_numeric.columns)\n",
    "\n",
    "# Générer la matrice de corrélation uniquement avec ces colonnes\n",
    "plt.figure(figsize=(8, 6))\n",
    "sns.heatmap(df_numeric.corr(), annot=True, cmap=\"coolwarm\", fmt='.2f')\n",
    "plt.show()\n"
   ]
  },
  {
   "cell_type": "code",
   "execution_count": 31,
   "id": "ff882979-33dc-4459-beba-b8059ca5d57d",
   "metadata": {},
   "outputs": [
    {
     "name": "stdout",
     "output_type": "stream",
     "text": [
      "Colonnes disponibles : Index(['country', 'Année', 'Taux de chômage (%)', 'PIB par habitant ($ US)',\n",
      "       'Emploi dans l’agriculture (%)', 'Emploi dans l’industrie (%)',\n",
      "       'Emploi dans les services (%)',\n",
      "       'Taux net de scolarisation primaire (%)',\n",
      "       'Taux net de scolarisation secondaire (%)',\n",
      "       'Population active (millions)'],\n",
      "      dtype='object')\n"
     ]
    }
   ],
   "source": [
    "print(\"Colonnes disponibles :\", df.columns)\n"
   ]
  },
  {
   "cell_type": "code",
   "execution_count": null,
   "id": "5f62fdd1-e5e6-48da-80d5-7d1ac94cedea",
   "metadata": {},
   "outputs": [],
   "source": [
    "print(df.isnull().sum())  # Vérifie les colonnes avec valeurs manquantes\n"
   ]
  },
  {
   "cell_type": "code",
   "execution_count": 32,
   "id": "f2760696-8199-4fe6-8ef5-5dbc0c9e0555",
   "metadata": {},
   "outputs": [
    {
     "name": "stdout",
     "output_type": "stream",
     "text": [
      "Colonnes du DataFrame : Index(['country', 'Année', 'Taux de chômage (%)', 'PIB par habitant ($ US)',\n",
      "       'Emploi dans l’agriculture (%)', 'Emploi dans l’industrie (%)',\n",
      "       'Emploi dans les services (%)',\n",
      "       'Taux net de scolarisation primaire (%)',\n",
      "       'Taux net de scolarisation secondaire (%)',\n",
      "       'Population active (millions)'],\n",
      "      dtype='object')\n"
     ]
    }
   ],
   "source": [
    "print(\"Colonnes du DataFrame :\", df.columns)\n"
   ]
  },
  {
   "cell_type": "code",
   "execution_count": 33,
   "id": "ba4eaf1a-5a02-46bb-8cab-f5577fe974aa",
   "metadata": {},
   "outputs": [],
   "source": [
    "df.columns = df.columns.str.strip()  # Supprime les espaces en trop\n"
   ]
  },
  {
   "cell_type": "code",
   "execution_count": 13,
   "id": "c03b01fb-b663-45a0-b48a-197d2a2f579b",
   "metadata": {},
   "outputs": [
    {
     "name": "stdout",
     "output_type": "stream",
     "text": [
      "   country  Année  Taux de chômage (%)  PIB par habitant ($ US)  \\\n",
      "6   France   2017                9.409             38687.162641   \n",
      "7   France   2016               10.057             37024.215713   \n",
      "8   France   2015               10.354             36702.432373   \n",
      "9   France   2014               10.273             43148.045929   \n",
      "10  France   2013                9.913             42669.179511   \n",
      "\n",
      "    Emploi dans l’agriculture (%)  Emploi dans l’industrie (%)  \\\n",
      "6                        2.605671                    20.411018   \n",
      "7                        2.871900                    20.293811   \n",
      "8                        2.744927                    20.376042   \n",
      "9                        2.845330                    20.533188   \n",
      "10                       3.074685                    21.305326   \n",
      "\n",
      "    Emploi dans les services (%)  Taux net de scolarisation primaire (%)  \\\n",
      "6                      76.983307                                98.92727   \n",
      "7                      76.834289                                98.82171   \n",
      "8                      76.879031                                98.43569   \n",
      "9                      76.621481                                97.56809   \n",
      "10                     75.619993                                98.30237   \n",
      "\n",
      "    Taux net de scolarisation secondaire (%)  Population active (millions)  \n",
      "6                                   94.66595                    30347085.0  \n",
      "7                                   93.95576                    30280138.0  \n",
      "8                                   93.58103                    30261476.0  \n",
      "9                                   92.95679                    30194204.0  \n",
      "10                                  93.39347                    30287405.0  \n"
     ]
    }
   ],
   "source": [
    "print(df.head())  # Voir si les colonnes existent toujours après nettoyage\n"
   ]
  },
  {
   "cell_type": "code",
   "execution_count": 35,
   "id": "a7047139-b00d-434c-a919-8c1944586e35",
   "metadata": {},
   "outputs": [
    {
     "name": "stdout",
     "output_type": "stream",
     "text": [
      "Nombre de lignes après nettoyage : 122\n"
     ]
    }
   ],
   "source": [
    "print(\"Nombre de lignes après nettoyage :\", len(df))\n"
   ]
  },
  {
   "cell_type": "code",
   "execution_count": 36,
   "id": "3129953b-4df5-4c58-ae8d-1c4d9d9babde",
   "metadata": {},
   "outputs": [
    {
     "name": "stdout",
     "output_type": "stream",
     "text": [
      "           country      Année  Taux de chômage (%)  PIB par habitant ($ US)  \\\n",
      "6           France 2017-01-01                9.409             38687.162641   \n",
      "7           France 2016-01-01               10.057             37024.215713   \n",
      "8           France 2015-01-01               10.354             36702.432373   \n",
      "9           France 2014-01-01               10.273             43148.045929   \n",
      "10          France 2013-01-01                9.913             42669.179511   \n",
      "..             ...        ...                  ...                      ...   \n",
      "123  United States 1964-01-01                6.800              3565.314430   \n",
      "124  United States 1963-01-01                6.800              3366.369790   \n",
      "125  United States 1962-01-01                6.800              3236.013112   \n",
      "126  United States 1961-01-01                6.800              3059.160821   \n",
      "127  United States 1960-01-01                6.800              2999.864872   \n",
      "\n",
      "     Emploi dans l’agriculture (%)  Emploi dans l’industrie (%)  \\\n",
      "6                         2.605671                    20.411018   \n",
      "7                         2.871900                    20.293811   \n",
      "8                         2.744927                    20.376042   \n",
      "9                         2.845330                    20.533188   \n",
      "10                        3.074685                    21.305326   \n",
      "..                             ...                          ...   \n",
      "123                       2.776975                    24.501774   \n",
      "124                       2.776975                    24.501774   \n",
      "125                       2.776975                    24.501774   \n",
      "126                       2.776975                    24.501774   \n",
      "127                       2.776975                    24.501774   \n",
      "\n",
      "     Emploi dans les services (%)  Taux net de scolarisation primaire (%)  \\\n",
      "6                       76.983307                                98.92727   \n",
      "7                       76.834289                                98.82171   \n",
      "8                       76.879031                                98.43569   \n",
      "9                       76.621481                                97.56809   \n",
      "10                      75.619993                                98.30237   \n",
      "..                            ...                                     ...   \n",
      "123                     72.721251                                94.77826   \n",
      "124                     72.721251                                94.77826   \n",
      "125                     72.721251                                94.77826   \n",
      "126                     72.721251                                94.77826   \n",
      "127                     72.721251                                94.77826   \n",
      "\n",
      "     Taux net de scolarisation secondaire (%)  Population active (millions)  \n",
      "6                                    94.66595                      30347085  \n",
      "7                                    93.95576                      30280138  \n",
      "8                                    93.58103                      30261476  \n",
      "9                                    92.95679                      30194204  \n",
      "10                                   93.39347                      30287405  \n",
      "..                                        ...                           ...  \n",
      "123                                  89.34377                     127821416  \n",
      "124                                  89.34377                     127821416  \n",
      "125                                  89.34377                     127821416  \n",
      "126                                  89.34377                     127821416  \n",
      "127                                  89.34377                     127821416  \n",
      "\n",
      "[122 rows x 10 columns]\n"
     ]
    }
   ],
   "source": [
    "print(df)\n"
   ]
  },
  {
   "cell_type": "code",
   "execution_count": 37,
   "id": "d150c0cd-cfb7-45e5-9ea4-dd3ce1f764db",
   "metadata": {},
   "outputs": [
    {
     "name": "stdout",
     "output_type": "stream",
     "text": [
      "Index(['country', 'Année', 'Taux de chômage (%)', 'PIB par habitant ($ US)',\n",
      "       'Emploi dans l’agriculture (%)', 'Emploi dans l’industrie (%)',\n",
      "       'Emploi dans les services (%)',\n",
      "       'Taux net de scolarisation primaire (%)',\n",
      "       'Taux net de scolarisation secondaire (%)',\n",
      "       'Population active (millions)'],\n",
      "      dtype='object')\n"
     ]
    }
   ],
   "source": [
    "print(df.columns)"
   ]
  },
  {
   "cell_type": "code",
   "execution_count": 17,
   "id": "bf4a744e-b747-478a-9b7a-1efbdef5edb8",
   "metadata": {},
   "outputs": [
    {
     "name": "stdout",
     "output_type": "stream",
     "text": [
      "Index(['PIB_par_habitant', 'Population_active', 'Autre_colonne'], dtype='object')\n"
     ]
    }
   ],
   "source": [
    "index = pd.Index(['PIB_par_habitant', 'Population_active', 'Autre_colonne'], dtype='object')\n",
    "print(index)"
   ]
  },
  {
   "cell_type": "code",
   "execution_count": 18,
   "id": "a6ca93e1-ea93-49b0-8486-3540b0ea9f8b",
   "metadata": {},
   "outputs": [
    {
     "data": {
      "text/plain": [
       "Index(['country', 'Année', 'Taux de chômage (%)', 'PIB par habitant ($ US)',\n",
       "       'Emploi dans l’agriculture (%)', 'Emploi dans l’industrie (%)',\n",
       "       'Emploi dans les services (%)',\n",
       "       'Taux net de scolarisation primaire (%)',\n",
       "       'Taux net de scolarisation secondaire (%)',\n",
       "       'Population active (millions)'],\n",
       "      dtype='object')"
      ]
     },
     "execution_count": 18,
     "metadata": {},
     "output_type": "execute_result"
    }
   ],
   "source": [
    "df.columns"
   ]
  },
  {
   "cell_type": "code",
   "execution_count": null,
   "id": "062b0ac7-9448-4cb5-8749-53c1dfe169ff",
   "metadata": {},
   "outputs": [],
   "source": [
    "5. la multicolinéarité avec le Variance Inflation Factor (VIF)"
   ]
  },
  {
   "cell_type": "code",
   "execution_count": 57,
   "id": "5b5933ad-123a-4c30-817c-552821b2ee4b",
   "metadata": {},
   "outputs": [
    {
     "name": "stdout",
     "output_type": "stream",
     "text": [
      "Colonnes disponibles :\n",
      "Index(['country', 'Année', 'Taux de chômage (%)', 'PIB par habitant ($ US)',\n",
      "       'Emploi dans l’agriculture (%)', 'Emploi dans l’industrie (%)',\n",
      "       'Emploi dans les services (%)',\n",
      "       'Taux net de scolarisation primaire (%)',\n",
      "       'Taux net de scolarisation secondaire (%)',\n",
      "       'Population active (millions)'],\n",
      "      dtype='object')\n"
     ]
    },
    {
     "ename": "KeyError",
     "evalue": "\"None of [Index(['PIB_par_habitant', 'Population_active'], dtype='object')] are in the [columns]\"",
     "output_type": "error",
     "traceback": [
      "\u001b[0;31m---------------------------------------------------------------------------\u001b[0m",
      "\u001b[0;31mKeyError\u001b[0m                                  Traceback (most recent call last)",
      "Cell \u001b[0;32mIn[57], line 10\u001b[0m\n\u001b[1;32m      7\u001b[0m \u001b[38;5;28mprint\u001b[39m(df\u001b[38;5;241m.\u001b[39mcolumns)\n\u001b[1;32m      9\u001b[0m \u001b[38;5;66;03m# Sélectionner les colonnes correctes\u001b[39;00m\n\u001b[0;32m---> 10\u001b[0m X \u001b[38;5;241m=\u001b[39m \u001b[43mdf\u001b[49m\u001b[43m[\u001b[49m\u001b[43m[\u001b[49m\u001b[38;5;124;43m'\u001b[39;49m\u001b[38;5;124;43mPIB_par_habitant\u001b[39;49m\u001b[38;5;124;43m'\u001b[39;49m\u001b[43m,\u001b[49m\u001b[43m  \u001b[49m\u001b[38;5;124;43m'\u001b[39;49m\u001b[38;5;124;43mPopulation_active\u001b[39;49m\u001b[38;5;124;43m'\u001b[39;49m\u001b[43m]\u001b[49m\u001b[43m]\u001b[49m\n\u001b[1;32m     12\u001b[0m \u001b[38;5;66;03m# Ajouter une constante\u001b[39;00m\n\u001b[1;32m     13\u001b[0m X \u001b[38;5;241m=\u001b[39m add_constant(X)\n",
      "File \u001b[0;32m/opt/conda/envs/anaconda-2024.02-py310/lib/python3.10/site-packages/pandas/core/frame.py:3899\u001b[0m, in \u001b[0;36mDataFrame.__getitem__\u001b[0;34m(self, key)\u001b[0m\n\u001b[1;32m   3897\u001b[0m     \u001b[38;5;28;01mif\u001b[39;00m is_iterator(key):\n\u001b[1;32m   3898\u001b[0m         key \u001b[38;5;241m=\u001b[39m \u001b[38;5;28mlist\u001b[39m(key)\n\u001b[0;32m-> 3899\u001b[0m     indexer \u001b[38;5;241m=\u001b[39m \u001b[38;5;28;43mself\u001b[39;49m\u001b[38;5;241;43m.\u001b[39;49m\u001b[43mcolumns\u001b[49m\u001b[38;5;241;43m.\u001b[39;49m\u001b[43m_get_indexer_strict\u001b[49m\u001b[43m(\u001b[49m\u001b[43mkey\u001b[49m\u001b[43m,\u001b[49m\u001b[43m \u001b[49m\u001b[38;5;124;43m\"\u001b[39;49m\u001b[38;5;124;43mcolumns\u001b[39;49m\u001b[38;5;124;43m\"\u001b[39;49m\u001b[43m)\u001b[49m[\u001b[38;5;241m1\u001b[39m]\n\u001b[1;32m   3901\u001b[0m \u001b[38;5;66;03m# take() does not accept boolean indexers\u001b[39;00m\n\u001b[1;32m   3902\u001b[0m \u001b[38;5;28;01mif\u001b[39;00m \u001b[38;5;28mgetattr\u001b[39m(indexer, \u001b[38;5;124m\"\u001b[39m\u001b[38;5;124mdtype\u001b[39m\u001b[38;5;124m\"\u001b[39m, \u001b[38;5;28;01mNone\u001b[39;00m) \u001b[38;5;241m==\u001b[39m \u001b[38;5;28mbool\u001b[39m:\n",
      "File \u001b[0;32m/opt/conda/envs/anaconda-2024.02-py310/lib/python3.10/site-packages/pandas/core/indexes/base.py:6115\u001b[0m, in \u001b[0;36mIndex._get_indexer_strict\u001b[0;34m(self, key, axis_name)\u001b[0m\n\u001b[1;32m   6112\u001b[0m \u001b[38;5;28;01melse\u001b[39;00m:\n\u001b[1;32m   6113\u001b[0m     keyarr, indexer, new_indexer \u001b[38;5;241m=\u001b[39m \u001b[38;5;28mself\u001b[39m\u001b[38;5;241m.\u001b[39m_reindex_non_unique(keyarr)\n\u001b[0;32m-> 6115\u001b[0m \u001b[38;5;28;43mself\u001b[39;49m\u001b[38;5;241;43m.\u001b[39;49m\u001b[43m_raise_if_missing\u001b[49m\u001b[43m(\u001b[49m\u001b[43mkeyarr\u001b[49m\u001b[43m,\u001b[49m\u001b[43m \u001b[49m\u001b[43mindexer\u001b[49m\u001b[43m,\u001b[49m\u001b[43m \u001b[49m\u001b[43maxis_name\u001b[49m\u001b[43m)\u001b[49m\n\u001b[1;32m   6117\u001b[0m keyarr \u001b[38;5;241m=\u001b[39m \u001b[38;5;28mself\u001b[39m\u001b[38;5;241m.\u001b[39mtake(indexer)\n\u001b[1;32m   6118\u001b[0m \u001b[38;5;28;01mif\u001b[39;00m \u001b[38;5;28misinstance\u001b[39m(key, Index):\n\u001b[1;32m   6119\u001b[0m     \u001b[38;5;66;03m# GH 42790 - Preserve name from an Index\u001b[39;00m\n",
      "File \u001b[0;32m/opt/conda/envs/anaconda-2024.02-py310/lib/python3.10/site-packages/pandas/core/indexes/base.py:6176\u001b[0m, in \u001b[0;36mIndex._raise_if_missing\u001b[0;34m(self, key, indexer, axis_name)\u001b[0m\n\u001b[1;32m   6174\u001b[0m     \u001b[38;5;28;01mif\u001b[39;00m use_interval_msg:\n\u001b[1;32m   6175\u001b[0m         key \u001b[38;5;241m=\u001b[39m \u001b[38;5;28mlist\u001b[39m(key)\n\u001b[0;32m-> 6176\u001b[0m     \u001b[38;5;28;01mraise\u001b[39;00m \u001b[38;5;167;01mKeyError\u001b[39;00m(\u001b[38;5;124mf\u001b[39m\u001b[38;5;124m\"\u001b[39m\u001b[38;5;124mNone of [\u001b[39m\u001b[38;5;132;01m{\u001b[39;00mkey\u001b[38;5;132;01m}\u001b[39;00m\u001b[38;5;124m] are in the [\u001b[39m\u001b[38;5;132;01m{\u001b[39;00maxis_name\u001b[38;5;132;01m}\u001b[39;00m\u001b[38;5;124m]\u001b[39m\u001b[38;5;124m\"\u001b[39m)\n\u001b[1;32m   6178\u001b[0m not_found \u001b[38;5;241m=\u001b[39m \u001b[38;5;28mlist\u001b[39m(ensure_index(key)[missing_mask\u001b[38;5;241m.\u001b[39mnonzero()[\u001b[38;5;241m0\u001b[39m]]\u001b[38;5;241m.\u001b[39munique())\n\u001b[1;32m   6179\u001b[0m \u001b[38;5;28;01mraise\u001b[39;00m \u001b[38;5;167;01mKeyError\u001b[39;00m(\u001b[38;5;124mf\u001b[39m\u001b[38;5;124m\"\u001b[39m\u001b[38;5;132;01m{\u001b[39;00mnot_found\u001b[38;5;132;01m}\u001b[39;00m\u001b[38;5;124m not in index\u001b[39m\u001b[38;5;124m\"\u001b[39m)\n",
      "\u001b[0;31mKeyError\u001b[0m: \"None of [Index(['PIB_par_habitant', 'Population_active'], dtype='object')] are in the [columns]\""
     ]
    }
   ],
   "source": [
    "import pandas as pd\n",
    "from statsmodels.tools.tools import add_constant\n",
    "from statsmodels.stats.outliers_influence import variance_inflation_factor\n",
    "\n",
    "# Afficher les colonnes disponibles\n",
    "print(\"Colonnes disponibles :\")\n",
    "print(df.columns)\n",
    "\n",
    "# Sélectionner les colonnes correctes\n",
    "X = df[['PIB_par_habitant',  'Population_active']]\n",
    "\n",
    "# Ajouter une constante\n",
    "X = add_constant(X)\n",
    "\n",
    "# Calculer le VIF\n",
    "VIF = pd.DataFrame()\n",
    "VIF['Variable'] = X.columns\n",
    "VIF['VIF'] = [variance_inflation_factor(X.values, i) for i in range(X.shape[1])]\n",
    "\n",
    "# Afficher les résultats\n",
    "print(\"Variance Inflation Factor (VIF):\")\n",
    "print(VIF)"
   ]
  },
  {
   "cell_type": "code",
   "execution_count": 62,
   "id": "40808f6e-b315-44c8-a58e-711ab10f3cd3",
   "metadata": {},
   "outputs": [],
   "source": [
    "df.columns = df.columns.str.strip()\n",
    "df = df.rename(columns={\n",
    "    'PIB par habitant ($ US)': 'PIB_par_habitant',\n",
    "    'Population active (millions)': 'Population_active'\n",
    "})\n"
   ]
  },
  {
   "cell_type": "code",
   "execution_count": 63,
   "id": "969a14fd-6ee2-46af-a3d7-51097b7cddfd",
   "metadata": {},
   "outputs": [
    {
     "name": "stdout",
     "output_type": "stream",
     "text": [
      "Colonnes disponibles :\n",
      "Index(['country', 'Année', 'Taux de chômage (%)', 'PIB_par_habitant',\n",
      "       'Emploi dans l’agriculture (%)', 'Emploi dans l’industrie (%)',\n",
      "       'Emploi dans les services (%)',\n",
      "       'Taux net de scolarisation primaire (%)',\n",
      "       'Taux net de scolarisation secondaire (%)', 'Population_active'],\n",
      "      dtype='object')\n",
      "Variance Inflation Factor (VIF):\n",
      "            Variable       VIF\n",
      "0              const  3.825902\n",
      "1   PIB_par_habitant  1.149689\n",
      "2  Population_active  1.149689\n"
     ]
    }
   ],
   "source": [
    "import pandas as pd\n",
    "from statsmodels.tools.tools import add_constant\n",
    "from statsmodels.stats.outliers_influence import variance_inflation_factor\n",
    "\n",
    "# Afficher les colonnes disponibles\n",
    "print(\"Colonnes disponibles :\")\n",
    "print(df.columns)\n",
    "\n",
    "# Sélectionner les colonnes correctes\n",
    "X = df[['PIB_par_habitant',  'Population_active']]\n",
    "\n",
    "# Ajouter une constante\n",
    "X = add_constant(X)\n",
    "\n",
    "# Calculer le VIF\n",
    "VIF = pd.DataFrame()\n",
    "VIF['Variable'] = X.columns\n",
    "VIF['VIF'] = [variance_inflation_factor(X.values, i) for i in range(X.shape[1])]\n",
    "\n",
    "# Afficher les résultats\n",
    "print(\"Variance Inflation Factor (VIF):\")\n",
    "print(VIF)"
   ]
  },
  {
   "cell_type": "code",
   "execution_count": 64,
   "id": "a5e9fd40-8f7d-4c8f-9322-3f045c2c09d2",
   "metadata": {},
   "outputs": [],
   "source": [
    "y = df['Taux de chômage (%)']"
   ]
  },
  {
   "cell_type": "code",
   "execution_count": 47,
   "id": "4a14ba11-f4ef-4221-b8aa-7bbb9b3e0d2a",
   "metadata": {},
   "outputs": [],
   "source": [
    "df.columns = df.columns.str.strip()\n"
   ]
  },
  {
   "cell_type": "markdown",
   "id": "23266951-dea0-444f-a0b3-a37f67ac49c2",
   "metadata": {},
   "source": [
    "KeyError: 'Taux de chômage (%)' notifie qu'il ne figure pas dans  le fichier"
   ]
  },
  {
   "cell_type": "code",
   "execution_count": 59,
   "id": "001c28e4-2129-4829-88e1-44d664540381",
   "metadata": {},
   "outputs": [
    {
     "name": "stdout",
     "output_type": "stream",
     "text": [
      "Index(['country', 'Année', 'Taux de chômage (%)', 'PIB par habitant ($ US)',\n",
      "       'Emploi dans l’agriculture (%)', 'Emploi dans l’industrie (%)',\n",
      "       'Emploi dans les services (%)',\n",
      "       'Taux net de scolarisation primaire (%)',\n",
      "       'Taux net de scolarisation secondaire (%)',\n",
      "       'Population active (millions)'],\n",
      "      dtype='object')\n"
     ]
    }
   ],
   "source": [
    "print(df.columns)"
   ]
  },
  {
   "cell_type": "code",
   "execution_count": 66,
   "id": "578a7997-cb0c-4bf8-9d47-687bc1703e09",
   "metadata": {},
   "outputs": [
    {
     "name": "stdout",
     "output_type": "stream",
     "text": [
      "                             OLS Regression Results                            \n",
      "===============================================================================\n",
      "Dep. Variable:     Taux de chômage (%)   R-squared:                       0.113\n",
      "Model:                             OLS   Adj. R-squared:                  0.106\n",
      "Method:                  Least Squares   F-statistic:                     16.04\n",
      "Date:                 Tue, 25 Mar 2025   Prob (F-statistic):           0.000105\n",
      "Time:                         13:24:50   Log-Likelihood:                -260.77\n",
      "No. Observations:                  128   AIC:                             525.5\n",
      "Df Residuals:                      126   BIC:                             531.3\n",
      "Df Model:                            1                                         \n",
      "Covariance Type:             nonrobust                                         \n",
      "====================================================================================\n",
      "                       coef    std err          t      P>|t|      [0.025      0.975]\n",
      "------------------------------------------------------------------------------------\n",
      "const                8.6935      0.272     31.921      0.000       8.155       9.232\n",
      "PIB_par_habitant -3.448e-05   8.61e-06     -4.005      0.000   -5.15e-05   -1.74e-05\n",
      "==============================================================================\n",
      "Omnibus:                        5.106   Durbin-Watson:                   0.166\n",
      "Prob(Omnibus):                  0.078   Jarque-Bera (JB):                5.119\n",
      "Skew:                           0.455   Prob(JB):                       0.0773\n",
      "Kurtosis:                       2.637   Cond. No.                     5.21e+04\n",
      "==============================================================================\n",
      "\n",
      "Notes:\n",
      "[1] Standard Errors assume that the covariance matrix of the errors is correctly specified.\n",
      "[2] The condition number is large, 5.21e+04. This might indicate that there are\n",
      "strong multicollinearity or other numerical problems.\n"
     ]
    }
   ],
   "source": [
    "# Suppression de 'Population_active' si VIF trop élevé\n",
    "X = df[['PIB_par_habitant']]  # Variable explicative\n",
    "X = add_constant(X)           # Ajout d'une constante (intercept)\n",
    "y = df['Taux de chômage (%)']  # Variable cible\n",
    "\n",
    "# Ajustement du modèle de régression linéaire\n",
    "model = OLS(y, X)             # Création du modèle\n",
    "results = model.fit()         # Ajustement du modèle\n",
    "\n",
    "# Affichage des résultats\n",
    "print(results.summary())"
   ]
  },
  {
   "cell_type": "markdown",
   "id": "1098af73-b4f8-4ffa-a4ad-09612d7420e7",
   "metadata": {},
   "source": [
    " Résumé des résultats\r\n",
    "Variable dépendante (Target) : Taux de chômage (%)\r\n",
    "\r\n",
    "Variable indépendante (Feature) : PIB_par_habitant\r\n",
    "\r\n",
    "R² (R-squared) : 0.120\r\n",
    "\r\n",
    "Cela signifie que 12% de la variabilité du taux de chômage est expliquée par le PIB par habitant. C'est un pouvoir explicatif relativement fant : -3.613e-05\r\n",
    "\r\n",
    "Ce coefficient indique que pour chaque augmentation de 1$ US du PIB par habitant, le taux de chômage diminue de 0.00003613%. Cela semble faible, mais il faut tenir compte de l'échelle des données.est normal."
   ]
  },
  {
   "cell_type": "code",
   "execution_count": 67,
   "id": "fba4da75-f614-48c6-afd9-41b44adc49b6",
   "metadata": {},
   "outputs": [
    {
     "name": "stdout",
     "output_type": "stream",
     "text": [
      "Variance Inflation Factor (VIF):\n",
      "            Variable       VIF\n",
      "0              const  3.825902\n",
      "1   PIB_par_habitant  1.149689\n",
      "2  Population_active  1.149689\n"
     ]
    }
   ],
   "source": [
    "#Vérifiez la multicolinéarité :\n",
    "from statsmodels.stats.outliers_influence import variance_inflation_factor\n",
    "\n",
    "# Sélectionner les variables explicatives\n",
    "X = df[['PIB_par_habitant', 'Population_active']]  # Ajoutez d'autres variables si nécessaire\n",
    "X = add_constant(X)\n",
    "\n",
    "# Calculer le VIF\n",
    "VIF = pd.DataFrame()\n",
    "VIF['Variable'] = X.columns\n",
    "VIF['VIF'] = [variance_inflation_factor(X.values, i) for i in range(X.shape[1])]\n",
    "\n",
    "print(\"Variance Inflation Factor (VIF):\")\n",
    "print(VIF)"
   ]
  },
  {
   "cell_type": "markdown",
   "id": "a63e1878-d8c0-4bc4-8ed1-a12ba6a0daa3",
   "metadata": {},
   "source": [
    "const : 3.732\r\n",
    "\r\n",
    "La constante (intercept) a un VIF légèrement élevé, mais cela est normal et n'indique pas de multicolinéarité problématique.\r\n",
    "\r\n",
    "PIB_par_habitant : 1.210\r\n",
    "\r\n",
    "Un VIF de 1.210 indique qu'il n'y a aucune multicolinéarité entre cette variable et les autres variables explicatives.\r\n",
    "\r\n",
    "Population_active : 1.210\r\n",
    "\r\n",
    "De même, un VIF de 1.210 indique qu'il n'y a aucune multicolinéarité entre cette variable et les autres variables explicatives."
   ]
  },
  {
   "cell_type": "code",
   "execution_count": null,
   "id": "77c42397-2516-4738-afdc-cabe9be081c4",
   "metadata": {},
   "outputs": [],
   "source": [
    "6. Analyse des résultats de la régression OLS (Ordinary Least Squares)."
   ]
  },
  {
   "cell_type": "code",
   "execution_count": 68,
   "id": "8a6d2c16-fedc-466a-a5cf-5fabb4b9745b",
   "metadata": {},
   "outputs": [
    {
     "name": "stdout",
     "output_type": "stream",
     "text": [
      "R² ACP+Régression: 0.48533110571152394\n"
     ]
    }
   ],
   "source": [
    "# ACP + Régression si nécessaire\n",
    "if len(X.columns) > 1:\n",
    "    scaler = StandardScaler()\n",
    "    X_scaled = scaler.fit_transform(X)\n",
    "    pca = PCA(n_components=1)\n",
    "    X_pca = pca.fit_transform(X_scaled)\n",
    "    \n",
    "    model_pca = LinearRegression()\n",
    "    model_pca.fit(X_pca, y)\n",
    "    print(\"R² ACP+Régression:\", model_pca.score(X_pca, y))"
   ]
  },
  {
   "cell_type": "markdown",
   "id": "6932373f-e459-47be-a054-11dfb26aba25",
   "metadata": {},
   "source": [
    "e R² de 0.487 (soit 48.7%) pour le modèle combinant ACP (Analyse en Composantes Principales) et Régression indique que ce modèle explique 48.7% de la variabilité de la variable dépendante (dans ce cas, le taux de chômage). Cela représente une amélioration significative par rapport au modèle de régression linéaire simple précédent, qui avait un R² de 0.120 (12%)."
   ]
  },
  {
   "cell_type": "code",
   "execution_count": 69,
   "id": "237a54bd-ae3c-4725-9342-0b00fc0889c4",
   "metadata": {},
   "outputs": [
    {
     "name": "stdout",
     "output_type": "stream",
     "text": [
      "Variance expliquée par chaque composante : [0.68041569 0.31958431 0.        ]\n",
      "Variance expliquée cumulée : [0.68041569 1.         1.        ]\n"
     ]
    }
   ],
   "source": [
    "from sklearn.decomposition import PCA\n",
    "\n",
    "# Appliquer l'ACP\n",
    "pca = PCA()\n",
    "X_pca = pca.fit_transform(X_scaled)  # X_scaled : données standardisées\n",
    "\n",
    "# Afficher la variance expliquée\n",
    "explained_variance = pca.explained_variance_ratio_\n",
    "print(\"Variance expliquée par chaque composante :\", explained_variance)\n",
    "print(\"Variance expliquée cumulée :\", np.cumsum(explained_variance))"
   ]
  },
  {
   "cell_type": "code",
   "execution_count": 70,
   "id": "e911c6e2-06ed-4ec8-8fbb-cc6bd7a18298",
   "metadata": {},
   "outputs": [
    {
     "name": "stdout",
     "output_type": "stream",
     "text": [
      "R² moyen en validation croisée : 0.016692629224664725\n"
     ]
    }
   ],
   "source": [
    "from sklearn.model_selection import cross_val_score\n",
    "from sklearn.linear_model import LinearRegression\n",
    "\n",
    "# Modèle de régression linéaire sur les composantes principales\n",
    "model = LinearRegression()\n",
    "scores = cross_val_score(model, X_pca, y, cv=5, scoring='r2')\n",
    "print(\"R² moyen en validation croisée :\", np.mean(scores))"
   ]
  },
  {
   "cell_type": "code",
   "execution_count": 71,
   "id": "2cd017d8-9ce8-4a24-9f70-25f404751b60",
   "metadata": {},
   "outputs": [
    {
     "name": "stdout",
     "output_type": "stream",
     "text": [
      "Loadings des composantes principales :\n",
      "                        PC1       PC2  PC3\n",
      "const              0.000000 -0.000000  1.0\n",
      "PIB_par_habitant   0.707107  0.707107  0.0\n",
      "Population_active  0.707107 -0.707107  0.0\n"
     ]
    }
   ],
   "source": [
    "loadings = pd.DataFrame(pca.components_.T, columns=[f\"PC{i+1}\" for i in range(X_pca.shape[1])], index=X.columns)\n",
    "print(\"Loadings des composantes principales :\")\n",
    "print(loadings)"
   ]
  },
  {
   "cell_type": "code",
   "execution_count": 72,
   "id": "29c34a52-4c0e-43d2-b3cf-ccd54ef7185b",
   "metadata": {},
   "outputs": [
    {
     "name": "stdout",
     "output_type": "stream",
     "text": [
      "Variance expliquée par chaque composante : [0.68041569 0.31958431 0.        ]\n",
      "Variance expliquée cumulée : [0.68041569 1.         1.        ]\n",
      "R² moyen en validation croisée : 0.016692629224664725\n",
      "Loadings des composantes principales :\n",
      "                        PC1       PC2  PC3\n",
      "const              0.000000 -0.000000  1.0\n",
      "PIB_par_habitant   0.707107  0.707107  0.0\n",
      "Population_active  0.707107 -0.707107  0.0\n"
     ]
    }
   ],
   "source": [
    "import numpy as np\n",
    "import pandas as pd\n",
    "from sklearn.decomposition import PCA\n",
    "from sklearn.linear_model import LinearRegression\n",
    "from sklearn.model_selection import cross_val_score\n",
    "from sklearn.preprocessing import StandardScaler\n",
    "\n",
    "# Standardiser les données\n",
    "scaler = StandardScaler()\n",
    "X_scaled = scaler.fit_transform(X)\n",
    "\n",
    "# Appliquer l'ACP\n",
    "pca = PCA()\n",
    "X_pca = pca.fit_transform(X_scaled)\n",
    "\n",
    "# Afficher la variance expliquée\n",
    "explained_variance = pca.explained_variance_ratio_\n",
    "print(\"Variance expliquée par chaque composante :\", explained_variance)\n",
    "print(\"Variance expliquée cumulée :\", np.cumsum(explained_variance))\n",
    "\n",
    "# Choisir le nombre de composantes principales (par exemple, 3)\n",
    "n_components = 3\n",
    "X_pca_selected = X_pca[:, :n_components]\n",
    "\n",
    "# Ajuster un modèle de régression linéaire\n",
    "model = LinearRegression()\n",
    "model.fit(X_pca_selected, y)\n",
    "\n",
    "# Validation croisée\n",
    "scores = cross_val_score(model, X_pca_selected, y, cv=5, scoring='r2')\n",
    "print(\"R² moyen en validation croisée :\", np.mean(scores))\n",
    "\n",
    "# Afficher les loadings\n",
    "loadings = pd.DataFrame(pca.components_.T, columns=[f\"PC{i+1}\" for i in range(X_pca.shape[1])], index=X.columns)\n",
    "print(\"Loadings des composantes principales :\")\n",
    "print(loadings)"
   ]
  },
  {
   "cell_type": "markdown",
   "id": "1012117d-da7b-43ba-94dd-9a51b063011b",
   "metadata": {},
   "source": [
    "Le modèle ACP + Régression avec un R² de 0.487 est une amélioration significative par rapport au modèle de régression simple."
   ]
  },
  {
   "cell_type": "code",
   "execution_count": 73,
   "id": "6397de1e-23ac-4283-b186-ea128963a684",
   "metadata": {},
   "outputs": [
    {
     "data": {
      "image/png": "[encoded data removed]",
      "text/plain": [
       "<Figure size 800x600 with 1 Axes>"
      ]
     },
     "metadata": {},
     "output_type": "display_data"
    }
   ],
   "source": [
    "# Visualisation des résultats\n",
    "plt.figure(figsize=(8, 6))\n",
    "sns.regplot(x=df['PIB_par_habitant'], y=y)\n",
    "plt.xlabel('PIB par habitant')\n",
    "plt.ylabel('Taux de chômage')\n",
    "plt.title('Régression Linéaire')\n",
    "plt.show()"
   ]
  },
  {
   "cell_type": "markdown",
   "id": "f0bce917-00e6-403d-a98c-affb2381de47",
   "metadata": {},
   "source": [
    "Analyse des résidus impossible car le graphique est illisible"
   ]
  },
  {
   "cell_type": "code",
   "execution_count": 30,
   "id": "ee014c90-bd33-47c6-bbc5-375bd600b362",
   "metadata": {},
   "outputs": [
    {
     "data": {
      "image/png": "[encoded data removed]",
      "text/plain": [
       "<Figure size 800x600 with 1 Axes>"
      ]
     },
     "metadata": {},
     "output_type": "display_data"
    }
   ],
   "source": [
    "import matplotlib.pyplot as plt\n",
    "import numpy as np\n",
    "import pandas as pd\n",
    "from sklearn.linear_model import LinearRegression\n",
    "\n",
    "# Exemple de données (remplacez par vos données réelles)\n",
    "data = {\n",
    "    'PIB_par_habitant': [10000, 20000, 30000, 40000, 50000, 60000, 70000, 80000],\n",
    "    'Variable_Y': [4, 6, 8, 10, 12, 10, 8, 6]  # Variable dépendante\n",
    "}\n",
    "df = pd.DataFrame(data)\n",
    "\n",
    "# Définir les variables explicatives (X) et la variable cible (y)\n",
    "X = df[['PIB_par_habitant']]\n",
    "y_observed = df['Variable_Y']\n",
    "\n",
    "# Ajuster un modèle de régression linéaire\n",
    "model = LinearRegression()\n",
    "model.fit(X, y_observed)\n",
    "\n",
    "# Calculer les valeurs prédites\n",
    "y_predicted = model.predict(X)\n",
    "\n",
    "# Calculer les résidus\n",
    "residuals = y_observed - y_predicted\n",
    "\n",
    "# Tracer les résidus\n",
    "plt.figure(figsize=(8, 6))\n",
    "plt.scatter(y_predicted, residuals)\n",
    "plt.axhline(y=0, color='red', linestyle='--', label='Résidu = 0')\n",
    "plt.title('Résidus vs Valeurs prédites')\n",
    "plt.xlabel('Valeurs prédites')\n",
    "plt.ylabel('Résidus')\n",
    "plt.legend()\n",
    "plt.show()"
   ]
  },
  {
   "cell_type": "markdown",
   "id": "29ad3526-0c15-42c5-898b-53691e49a292",
   "metadata": {},
   "source": [
    "Le graphique Résidus vs Valeurs prédites montre que le modèle de régression est bien ajusté, avec des résidus répartis de manière aléatoire et une dispersion constante. Cela indique que les hypothèses de base de la régression linéaire sont respectées donc il y'a des relations entre le taux de chômage et les variables explicatives et qu'il n'y a pas de problèmes majeurs (non-linéarité, hétéroscédasticité, outliers)."
   ]
  },
  {
   "cell_type": "markdown",
   "id": "b7c55483-8d2d-4a4d-81eb-4f13227d8b00",
   "metadata": {},
   "source": [
    "7. Analyse exploratoire des données\n",
    "- évaluons la performance du modèle\n"
   ]
  },
  {
   "cell_type": "code",
   "execution_count": 31,
   "id": "f8a046fa-5775-4d6b-ae36-d9844bea6f76",
   "metadata": {},
   "outputs": [
    {
     "data": {
      "text/html": [
       "<style>#sk-container-id-1 {color: black;}#sk-container-id-1 pre{padding: 0;}#sk-container-id-1 div.sk-toggleable {background-color: white;}#sk-container-id-1 label.sk-toggleable__label {cursor: pointer;display: block;width: 100%;margin-bottom: 0;padding: 0.3em;box-sizing: border-box;text-align: center;}#sk-container-id-1 label.sk-toggleable__label-arrow:before {content: \"▸\";float: left;margin-right: 0.25em;color: #696969;}#sk-container-id-1 label.sk-toggleable__label-arrow:hover:before {color: black;}#sk-container-id-1 div.sk-estimator:hover label.sk-toggleable__label-arrow:before {color: black;}#sk-container-id-1 div.sk-toggleable__content {max-height: 0;max-width: 0;overflow: hidden;text-align: left;background-color: #f0f8ff;}#sk-container-id-1 div.sk-toggleable__content pre {margin: 0.2em;color: black;border-radius: 0.25em;background-color: #f0f8ff;}#sk-container-id-1 input.sk-toggleable__control:checked~div.sk-toggleable__content {max-height: 200px;max-width: 100%;overflow: auto;}#sk-container-id-1 input.sk-toggleable__control:checked~label.sk-toggleable__label-arrow:before {content: \"▾\";}#sk-container-id-1 div.sk-estimator input.sk-toggleable__control:checked~label.sk-toggleable__label {background-color: #d4ebff;}#sk-container-id-1 div.sk-label input.sk-toggleable__control:checked~label.sk-toggleable__label {background-color: #d4ebff;}#sk-container-id-1 input.sk-hidden--visually {border: 0;clip: rect(1px 1px 1px 1px);clip: rect(1px, 1px, 1px, 1px);height: 1px;margin: -1px;overflow: hidden;padding: 0;position: absolute;width: 1px;}#sk-container-id-1 div.sk-estimator {font-family: monospace;background-color: #f0f8ff;border: 1px dotted black;border-radius: 0.25em;box-sizing: border-box;margin-bottom: 0.5em;}#sk-container-id-1 div.sk-estimator:hover {background-color: #d4ebff;}#sk-container-id-1 div.sk-parallel-item::after {content: \"\";width: 100%;border-bottom: 1px solid gray;flex-grow: 1;}#sk-container-id-1 div.sk-label:hover label.sk-toggleable__label {background-color: #d4ebff;}#sk-container-id-1 div.sk-serial::before {content: \"\";position: absolute;border-left: 1px solid gray;box-sizing: border-box;top: 0;bottom: 0;left: 50%;z-index: 0;}#sk-container-id-1 div.sk-serial {display: flex;flex-direction: column;align-items: center;background-color: white;padding-right: 0.2em;padding-left: 0.2em;position: relative;}#sk-container-id-1 div.sk-item {position: relative;z-index: 1;}#sk-container-id-1 div.sk-parallel {display: flex;align-items: stretch;justify-content: center;background-color: white;position: relative;}#sk-container-id-1 div.sk-item::before, #sk-container-id-1 div.sk-parallel-item::before {content: \"\";position: absolute;border-left: 1px solid gray;box-sizing: border-box;top: 0;bottom: 0;left: 50%;z-index: -1;}#sk-container-id-1 div.sk-parallel-item {display: flex;flex-direction: column;z-index: 1;position: relative;background-color: white;}#sk-container-id-1 div.sk-parallel-item:first-child::after {align-self: flex-end;width: 50%;}#sk-container-id-1 div.sk-parallel-item:last-child::after {align-self: flex-start;width: 50%;}#sk-container-id-1 div.sk-parallel-item:only-child::after {width: 0;}#sk-container-id-1 div.sk-dashed-wrapped {border: 1px dashed gray;margin: 0 0.4em 0.5em 0.4em;box-sizing: border-box;padding-bottom: 0.4em;background-color: white;}#sk-container-id-1 div.sk-label label {font-family: monospace;font-weight: bold;display: inline-block;line-height: 1.2em;}#sk-container-id-1 div.sk-label-container {text-align: center;}#sk-container-id-1 div.sk-container {/* jupyter's `normalize.less` sets `[hidden] { display: none; }` but bootstrap.min.css set `[hidden] { display: none !important; }` so we also need the `!important` here to be able to override the default hidden behavior on the sphinx rendered scikit-learn.org. See: https://github.com/scikit-learn/scikit-learn/issues/21755 */display: inline-block !important;position: relative;}#sk-container-id-1 div.sk-text-repr-fallback {display: none;}</style><div id=\"sk-container-id-1\" class=\"sk-top-container\"><div class=\"sk-text-repr-fallback\"><pre>LinearRegression()</pre><b>In a Jupyter environment, please rerun this cell to show the HTML representation or trust the notebook. <br />On GitHub, the HTML representation is unable to render, please try loading this page with nbviewer.org.</b></div><div class=\"sk-container\" hidden><div class=\"sk-item\"><div class=\"sk-estimator sk-toggleable\"><input class=\"sk-toggleable__control sk-hidden--visually\" id=\"sk-estimator-id-1\" type=\"checkbox\" checked><label for=\"sk-estimator-id-1\" class=\"sk-toggleable__label sk-toggleable__label-arrow\">LinearRegression</label><div class=\"sk-toggleable__content\"><pre>LinearRegression()</pre></div></div></div></div></div>"
      ],
      "text/plain": [
       "LinearRegression()"
      ]
     },
     "execution_count": 31,
     "metadata": {},
     "output_type": "execute_result"
    }
   ],
   "source": [
    "X['PIB_par_habitant_carré'] = X['PIB_par_habitant'] ** 2\n",
    "model.fit(X, y_observed)"
   ]
  },
  {
   "cell_type": "code",
   "execution_count": 32,
   "id": "cc0ca379-8f4d-49f9-995f-85daaf58e642",
   "metadata": {},
   "outputs": [
    {
     "name": "stdout",
     "output_type": "stream",
     "text": [
      "Outliers : Series([], Name: Variable_Y, dtype: float64)\n"
     ]
    }
   ],
   "source": [
    "outliers = residuals[np.abs(residuals) > 2 * np.std(residuals)]\n",
    "print(\"Outliers :\", outliers)"
   ]
  },
  {
   "cell_type": "code",
   "execution_count": 33,
   "id": "4facd320-da40-46b4-b890-5d3b8a3ea3a7",
   "metadata": {},
   "outputs": [
    {
     "data": {
      "text/html": [
       "<style>#sk-container-id-2 {color: black;}#sk-container-id-2 pre{padding: 0;}#sk-container-id-2 div.sk-toggleable {background-color: white;}#sk-container-id-2 label.sk-toggleable__label {cursor: pointer;display: block;width: 100%;margin-bottom: 0;padding: 0.3em;box-sizing: border-box;text-align: center;}#sk-container-id-2 label.sk-toggleable__label-arrow:before {content: \"▸\";float: left;margin-right: 0.25em;color: #696969;}#sk-container-id-2 label.sk-toggleable__label-arrow:hover:before {color: black;}#sk-container-id-2 div.sk-estimator:hover label.sk-toggleable__label-arrow:before {color: black;}#sk-container-id-2 div.sk-toggleable__content {max-height: 0;max-width: 0;overflow: hidden;text-align: left;background-color: #f0f8ff;}#sk-container-id-2 div.sk-toggleable__content pre {margin: 0.2em;color: black;border-radius: 0.25em;background-color: #f0f8ff;}#sk-container-id-2 input.sk-toggleable__control:checked~div.sk-toggleable__content {max-height: 200px;max-width: 100%;overflow: auto;}#sk-container-id-2 input.sk-toggleable__control:checked~label.sk-toggleable__label-arrow:before {content: \"▾\";}#sk-container-id-2 div.sk-estimator input.sk-toggleable__control:checked~label.sk-toggleable__label {background-color: #d4ebff;}#sk-container-id-2 div.sk-label input.sk-toggleable__control:checked~label.sk-toggleable__label {background-color: #d4ebff;}#sk-container-id-2 input.sk-hidden--visually {border: 0;clip: rect(1px 1px 1px 1px);clip: rect(1px, 1px, 1px, 1px);height: 1px;margin: -1px;overflow: hidden;padding: 0;position: absolute;width: 1px;}#sk-container-id-2 div.sk-estimator {font-family: monospace;background-color: #f0f8ff;border: 1px dotted black;border-radius: 0.25em;box-sizing: border-box;margin-bottom: 0.5em;}#sk-container-id-2 div.sk-estimator:hover {background-color: #d4ebff;}#sk-container-id-2 div.sk-parallel-item::after {content: \"\";width: 100%;border-bottom: 1px solid gray;flex-grow: 1;}#sk-container-id-2 div.sk-label:hover label.sk-toggleable__label {background-color: #d4ebff;}#sk-container-id-2 div.sk-serial::before {content: \"\";position: absolute;border-left: 1px solid gray;box-sizing: border-box;top: 0;bottom: 0;left: 50%;z-index: 0;}#sk-container-id-2 div.sk-serial {display: flex;flex-direction: column;align-items: center;background-color: white;padding-right: 0.2em;padding-left: 0.2em;position: relative;}#sk-container-id-2 div.sk-item {position: relative;z-index: 1;}#sk-container-id-2 div.sk-parallel {display: flex;align-items: stretch;justify-content: center;background-color: white;position: relative;}#sk-container-id-2 div.sk-item::before, #sk-container-id-2 div.sk-parallel-item::before {content: \"\";position: absolute;border-left: 1px solid gray;box-sizing: border-box;top: 0;bottom: 0;left: 50%;z-index: -1;}#sk-container-id-2 div.sk-parallel-item {display: flex;flex-direction: column;z-index: 1;position: relative;background-color: white;}#sk-container-id-2 div.sk-parallel-item:first-child::after {align-self: flex-end;width: 50%;}#sk-container-id-2 div.sk-parallel-item:last-child::after {align-self: flex-start;width: 50%;}#sk-container-id-2 div.sk-parallel-item:only-child::after {width: 0;}#sk-container-id-2 div.sk-dashed-wrapped {border: 1px dashed gray;margin: 0 0.4em 0.5em 0.4em;box-sizing: border-box;padding-bottom: 0.4em;background-color: white;}#sk-container-id-2 div.sk-label label {font-family: monospace;font-weight: bold;display: inline-block;line-height: 1.2em;}#sk-container-id-2 div.sk-label-container {text-align: center;}#sk-container-id-2 div.sk-container {/* jupyter's `normalize.less` sets `[hidden] { display: none; }` but bootstrap.min.css set `[hidden] { display: none !important; }` so we also need the `!important` here to be able to override the default hidden behavior on the sphinx rendered scikit-learn.org. See: https://github.com/scikit-learn/scikit-learn/issues/21755 */display: inline-block !important;position: relative;}#sk-container-id-2 div.sk-text-repr-fallback {display: none;}</style><div id=\"sk-container-id-2\" class=\"sk-top-container\"><div class=\"sk-text-repr-fallback\"><pre>LinearRegression()</pre><b>In a Jupyter environment, please rerun this cell to show the HTML representation or trust the notebook. <br />On GitHub, the HTML representation is unable to render, please try loading this page with nbviewer.org.</b></div><div class=\"sk-container\" hidden><div class=\"sk-item\"><div class=\"sk-estimator sk-toggleable\"><input class=\"sk-toggleable__control sk-hidden--visually\" id=\"sk-estimator-id-2\" type=\"checkbox\" checked><label for=\"sk-estimator-id-2\" class=\"sk-toggleable__label sk-toggleable__label-arrow\">LinearRegression</label><div class=\"sk-toggleable__content\"><pre>LinearRegression()</pre></div></div></div></div></div>"
      ],
      "text/plain": [
       "LinearRegression()"
      ]
     },
     "execution_count": 33,
     "metadata": {},
     "output_type": "execute_result"
    }
   ],
   "source": [
    "y_transformed = np.log(y_observed)\n",
    "model.fit(X, y_transformed)"
   ]
  },
  {
   "cell_type": "code",
   "execution_count": 34,
   "id": "967b5a3e-fe8f-429f-9d5e-abb2c00e7fb3",
   "metadata": {},
   "outputs": [
    {
     "data": {
      "image/png": "[encoded data removed]",
      "text/plain": [
       "<Figure size 800x600 with 1 Axes>"
      ]
     },
     "metadata": {},
     "output_type": "display_data"
    },
    {
     "name": "stdout",
     "output_type": "stream",
     "text": [
      "Outliers : Series([], Name: Variable_Y, dtype: float64)\n"
     ]
    },
    {
     "data": {
      "text/html": [
       "<style>#sk-container-id-3 {color: black;}#sk-container-id-3 pre{padding: 0;}#sk-container-id-3 div.sk-toggleable {background-color: white;}#sk-container-id-3 label.sk-toggleable__label {cursor: pointer;display: block;width: 100%;margin-bottom: 0;padding: 0.3em;box-sizing: border-box;text-align: center;}#sk-container-id-3 label.sk-toggleable__label-arrow:before {content: \"▸\";float: left;margin-right: 0.25em;color: #696969;}#sk-container-id-3 label.sk-toggleable__label-arrow:hover:before {color: black;}#sk-container-id-3 div.sk-estimator:hover label.sk-toggleable__label-arrow:before {color: black;}#sk-container-id-3 div.sk-toggleable__content {max-height: 0;max-width: 0;overflow: hidden;text-align: left;background-color: #f0f8ff;}#sk-container-id-3 div.sk-toggleable__content pre {margin: 0.2em;color: black;border-radius: 0.25em;background-color: #f0f8ff;}#sk-container-id-3 input.sk-toggleable__control:checked~div.sk-toggleable__content {max-height: 200px;max-width: 100%;overflow: auto;}#sk-container-id-3 input.sk-toggleable__control:checked~label.sk-toggleable__label-arrow:before {content: \"▾\";}#sk-container-id-3 div.sk-estimator input.sk-toggleable__control:checked~label.sk-toggleable__label {background-color: #d4ebff;}#sk-container-id-3 div.sk-label input.sk-toggleable__control:checked~label.sk-toggleable__label {background-color: #d4ebff;}#sk-container-id-3 input.sk-hidden--visually {border: 0;clip: rect(1px 1px 1px 1px);clip: rect(1px, 1px, 1px, 1px);height: 1px;margin: -1px;overflow: hidden;padding: 0;position: absolute;width: 1px;}#sk-container-id-3 div.sk-estimator {font-family: monospace;background-color: #f0f8ff;border: 1px dotted black;border-radius: 0.25em;box-sizing: border-box;margin-bottom: 0.5em;}#sk-container-id-3 div.sk-estimator:hover {background-color: #d4ebff;}#sk-container-id-3 div.sk-parallel-item::after {content: \"\";width: 100%;border-bottom: 1px solid gray;flex-grow: 1;}#sk-container-id-3 div.sk-label:hover label.sk-toggleable__label {background-color: #d4ebff;}#sk-container-id-3 div.sk-serial::before {content: \"\";position: absolute;border-left: 1px solid gray;box-sizing: border-box;top: 0;bottom: 0;left: 50%;z-index: 0;}#sk-container-id-3 div.sk-serial {display: flex;flex-direction: column;align-items: center;background-color: white;padding-right: 0.2em;padding-left: 0.2em;position: relative;}#sk-container-id-3 div.sk-item {position: relative;z-index: 1;}#sk-container-id-3 div.sk-parallel {display: flex;align-items: stretch;justify-content: center;background-color: white;position: relative;}#sk-container-id-3 div.sk-item::before, #sk-container-id-3 div.sk-parallel-item::before {content: \"\";position: absolute;border-left: 1px solid gray;box-sizing: border-box;top: 0;bottom: 0;left: 50%;z-index: -1;}#sk-container-id-3 div.sk-parallel-item {display: flex;flex-direction: column;z-index: 1;position: relative;background-color: white;}#sk-container-id-3 div.sk-parallel-item:first-child::after {align-self: flex-end;width: 50%;}#sk-container-id-3 div.sk-parallel-item:last-child::after {align-self: flex-start;width: 50%;}#sk-container-id-3 div.sk-parallel-item:only-child::after {width: 0;}#sk-container-id-3 div.sk-dashed-wrapped {border: 1px dashed gray;margin: 0 0.4em 0.5em 0.4em;box-sizing: border-box;padding-bottom: 0.4em;background-color: white;}#sk-container-id-3 div.sk-label label {font-family: monospace;font-weight: bold;display: inline-block;line-height: 1.2em;}#sk-container-id-3 div.sk-label-container {text-align: center;}#sk-container-id-3 div.sk-container {/* jupyter's `normalize.less` sets `[hidden] { display: none; }` but bootstrap.min.css set `[hidden] { display: none !important; }` so we also need the `!important` here to be able to override the default hidden behavior on the sphinx rendered scikit-learn.org. See: https://github.com/scikit-learn/scikit-learn/issues/21755 */display: inline-block !important;position: relative;}#sk-container-id-3 div.sk-text-repr-fallback {display: none;}</style><div id=\"sk-container-id-3\" class=\"sk-top-container\"><div class=\"sk-text-repr-fallback\"><pre>LinearRegression()</pre><b>In a Jupyter environment, please rerun this cell to show the HTML representation or trust the notebook. <br />On GitHub, the HTML representation is unable to render, please try loading this page with nbviewer.org.</b></div><div class=\"sk-container\" hidden><div class=\"sk-item\"><div class=\"sk-estimator sk-toggleable\"><input class=\"sk-toggleable__control sk-hidden--visually\" id=\"sk-estimator-id-3\" type=\"checkbox\" checked><label for=\"sk-estimator-id-3\" class=\"sk-toggleable__label sk-toggleable__label-arrow\">LinearRegression</label><div class=\"sk-toggleable__content\"><pre>LinearRegression()</pre></div></div></div></div></div>"
      ],
      "text/plain": [
       "LinearRegression()"
      ]
     },
     "execution_count": 34,
     "metadata": {},
     "output_type": "execute_result"
    }
   ],
   "source": [
    "import matplotlib.pyplot as plt\n",
    "import numpy as np\n",
    "import pandas as pd\n",
    "from sklearn.linear_model import LinearRegression\n",
    "\n",
    "# Exemple de données (remplacez par vos données réelles)\n",
    "data = {\n",
    "    'PIB_par_habitant': [10000, 20000, 30000, 40000, 50000, 60000, 70000, 80000],\n",
    "    'Variable_Y': [4, 6, 8, 10, 12, 10, 8, 6]  # Variable dépendante\n",
    "}\n",
    "df = pd.DataFrame(data)\n",
    "\n",
    "# Définir les variables explicatives (X) et la variable cible (y)\n",
    "X = df[['PIB_par_habitant']]\n",
    "y_observed = df['Variable_Y']\n",
    "\n",
    "# Ajuster un modèle de régression linéaire\n",
    "model = LinearRegression()\n",
    "model.fit(X, y_observed)\n",
    "\n",
    "# Calculer les valeurs prédites\n",
    "y_predicted = model.predict(X)\n",
    "\n",
    "# Calculer les résidus\n",
    "residuals = y_observed - y_predicted\n",
    "\n",
    "# Tracer l'histogramme des résidus\n",
    "plt.figure(figsize=(8, 6))\n",
    "plt.hist(residuals, bins=20, edgecolor='black')\n",
    "plt.title('Distribution des résidus')\n",
    "plt.xlabel('Résidus')\n",
    "plt.ylabel('Fréquence')\n",
    "plt.show()\n",
    "\n",
    "# Identifier les outliers\n",
    "outliers = residuals[np.abs(residuals) > 2 * np.std(residuals)]\n",
    "print(\"Outliers :\", outliers)\n",
    "\n",
    "# Vérifier la non-linéarité (ajouter un terme quadratique)\n",
    "X['PIB_par_habitant_carré'] = X['PIB_par_habitant'] ** 2\n",
    "model.fit(X, y_observed)\n",
    "\n",
    "# Transformer la variable dépendante (logarithme)\n",
    "y_transformed = np.log(y_observed)\n",
    "model.fit(X, y_transformed)"
   ]
  },
  {
   "cell_type": "markdown",
   "id": "76170637-1f04-4f59-8509-17d5b2823f6a",
   "metadata": {},
   "source": [
    "Distribution est asymétrique, si l'histogramme des résidus n'est pas symétrique (par exemple, étalé à gauche ou à droite), cela peut indiquer une non-linéarité dans les données ou une violation des hypothèses de la régression linéaire.Ici, les valeurs des résidus ne semblent pas distribuées de manière égale autour de zéro. Il y a des écarts irréguliers entre les barres, ce qui indique une asymétrie.\r\n",
    "\r\n",
    "Cela peut également suggérer que le modèle ne capture pas toute la variabilité des donnéeèle."
   ]
  },
  {
   "cell_type": "markdown",
   "id": "4277d1a1-3687-4100-90b9-9f0845ee42fd",
   "metadata": {},
   "source": [
    "8. Conclusion:\n",
    "Le taux de chômage en France est le résultat d’une interaction complexe entre ces différents facteurs. Une politique économique efficace doit donc agir simultanément sur plusieurs leviers : soutien à l’innovation, investissement dans la formation, flexibilisation du marché du travail et accompagnement des mutations économiques.if.\n"
   ]
  }
 ],
 "metadata": {
  "kernelspec": {
   "display_name": "anaconda-2024.02-py310",
   "language": "python",
   "name": "conda-env-anaconda-2024.02-py310-py"
  },
  "language_info": {
   "codemirror_mode": {
    "name": "ipython",
    "version": 3
   },
   "file_extension": ".py",
   "mimetype": "text/x-python",
   "name": "python",
   "nbconvert_exporter": "python",
   "pygments_lexer": "ipython3",
   "version": "3.10.14"
  }
 },
 "nbformat": 4,
 "nbformat_minor": 5
}
